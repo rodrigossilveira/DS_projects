{
  "cells": [
    {
      "cell_type": "markdown",
      "metadata": {
        "id": "view-in-github",
        "colab_type": "text"
      },
      "source": [
        "<a href=\"https://colab.research.google.com/github/rodrigossilveira/DS_projects/blob/main/A2C_robot_energy.ipynb\" target=\"_parent\"><img src=\"https://colab.research.google.com/assets/colab-badge.svg\" alt=\"Open In Colab\"/></a>"
      ]
    },
    {
      "cell_type": "code",
      "execution_count": null,
      "metadata": {
        "colab": {
          "base_uri": "https://localhost:8080/"
        },
        "id": "mPuht_MNI8e_",
        "outputId": "36dc143a-ebae-4721-f101-f8fa24611d18"
      },
      "outputs": [
        {
          "output_type": "stream",
          "name": "stdout",
          "text": [
            "Looking in indexes: https://pypi.org/simple, https://us-python.pkg.dev/colab-wheels/public/simple/\n",
            "Collecting box2d-py\n",
            "  Downloading box2d_py-2.3.8-cp37-cp37m-manylinux1_x86_64.whl (448 kB)\n",
            "\u001b[K     |████████████████████████████████| 448 kB 5.0 MB/s \n",
            "\u001b[?25hInstalling collected packages: box2d-py\n",
            "Successfully installed box2d-py-2.3.8\n"
          ]
        }
      ],
      "source": [
        "!pip install box2d-py\n",
        "import gym"
      ]
    },
    {
      "cell_type": "code",
      "execution_count": null,
      "metadata": {
        "colab": {
          "base_uri": "https://localhost:8080/",
          "height": 1000
        },
        "id": "LfHXTDbDErz4",
        "outputId": "d57a380b-cb3f-4430-b037-f9684a955959"
      },
      "outputs": [
        {
          "output_type": "stream",
          "name": "stdout",
          "text": [
            "Looking in indexes: https://pypi.org/simple, https://us-python.pkg.dev/colab-wheels/public/simple/\n",
            "Collecting roboticstoolbox-python[VPython]\n",
            "  Downloading roboticstoolbox_python-1.0.1-cp37-cp37m-manylinux_2_5_x86_64.manylinux1_x86_64.manylinux_2_12_x86_64.manylinux2010_x86_64.whl (2.7 MB)\n",
            "\u001b[K     |████████████████████████████████| 2.7 MB 5.2 MB/s \n",
            "\u001b[?25hRequirement already satisfied: scipy in /usr/local/lib/python3.7/dist-packages (from roboticstoolbox-python[VPython]) (1.4.1)\n",
            "Collecting pgraph-python\n",
            "  Downloading pgraph-python-0.6.1.tar.gz (16 kB)\n",
            "Collecting spatialgeometry~=1.0.0\n",
            "  Downloading spatialgeometry-1.0.1-cp37-cp37m-manylinux_2_5_x86_64.manylinux1_x86_64.manylinux_2_12_x86_64.manylinux2010_x86_64.whl (1.5 MB)\n",
            "\u001b[K     |████████████████████████████████| 1.5 MB 51.6 MB/s \n",
            "\u001b[?25hRequirement already satisfied: matplotlib in /usr/local/lib/python3.7/dist-packages (from roboticstoolbox-python[VPython]) (3.2.2)\n",
            "Collecting progress\n",
            "  Downloading progress-1.6.tar.gz (7.8 kB)\n",
            "Collecting ansitable\n",
            "  Downloading ansitable-0.9.6.tar.gz (17 kB)\n",
            "Collecting swift-sim~=1.0.0\n",
            "  Downloading swift_sim-1.0.0-cp37-cp37m-manylinux_2_5_x86_64.manylinux1_x86_64.manylinux_2_12_x86_64.manylinux2010_x86_64.whl (13.5 MB)\n",
            "\u001b[K     |████████████████████████████████| 13.5 MB 28.0 MB/s \n",
            "\u001b[?25hCollecting spatialmath-python~=1.0.0\n",
            "  Downloading spatialmath_python-1.0.0-py3-none-any.whl (178 kB)\n",
            "\u001b[K     |████████████████████████████████| 178 kB 73.0 MB/s \n",
            "\u001b[?25hRequirement already satisfied: numpy>=1.17.4 in /usr/local/lib/python3.7/dist-packages (from roboticstoolbox-python[VPython]) (1.21.6)\n",
            "Collecting rtb-data\n",
            "  Downloading rtb_data-1.0.0-py3-none-any.whl (112.2 MB)\n",
            "\u001b[K     |████████████████████████████████| 112.2 MB 94 kB/s \n",
            "\u001b[?25hCollecting imageio-ffmpeg\n",
            "  Downloading imageio_ffmpeg-0.4.7-py3-none-manylinux2010_x86_64.whl (26.9 MB)\n",
            "\u001b[K     |████████████████████████████████| 26.9 MB 1.4 MB/s \n",
            "\u001b[?25hRequirement already satisfied: imageio in /usr/local/lib/python3.7/dist-packages (from roboticstoolbox-python[VPython]) (2.4.1)\n",
            "Collecting numpy-stl\n",
            "  Downloading numpy_stl-2.17.1-py3-none-any.whl (18 kB)\n",
            "Collecting vpython\n",
            "  Downloading vpython-7.6.3-cp37-cp37m-manylinux_2_5_x86_64.manylinux1_x86_64.manylinux_2_12_x86_64.manylinux2010_x86_64.whl (3.7 MB)\n",
            "\u001b[K     |████████████████████████████████| 3.7 MB 33.1 MB/s \n",
            "\u001b[?25hCollecting colored\n",
            "  Downloading colored-1.4.3.tar.gz (29 kB)\n",
            "Collecting websockets\n",
            "  Downloading websockets-10.3-cp37-cp37m-manylinux_2_5_x86_64.manylinux1_x86_64.manylinux_2_12_x86_64.manylinux2010_x86_64.whl (112 kB)\n",
            "\u001b[K     |████████████████████████████████| 112 kB 66.2 MB/s \n",
            "\u001b[?25hRequirement already satisfied: pillow in /usr/local/lib/python3.7/dist-packages (from imageio->roboticstoolbox-python[VPython]) (7.1.2)\n",
            "Requirement already satisfied: python-dateutil>=2.1 in /usr/local/lib/python3.7/dist-packages (from matplotlib->roboticstoolbox-python[VPython]) (2.8.2)\n",
            "Requirement already satisfied: pyparsing!=2.0.4,!=2.1.2,!=2.1.6,>=2.0.1 in /usr/local/lib/python3.7/dist-packages (from matplotlib->roboticstoolbox-python[VPython]) (3.0.9)\n",
            "Requirement already satisfied: kiwisolver>=1.0.1 in /usr/local/lib/python3.7/dist-packages (from matplotlib->roboticstoolbox-python[VPython]) (1.4.2)\n",
            "Requirement already satisfied: cycler>=0.10 in /usr/local/lib/python3.7/dist-packages (from matplotlib->roboticstoolbox-python[VPython]) (0.11.0)\n",
            "Requirement already satisfied: typing-extensions in /usr/local/lib/python3.7/dist-packages (from kiwisolver>=1.0.1->matplotlib->roboticstoolbox-python[VPython]) (4.2.0)\n",
            "Requirement already satisfied: six>=1.5 in /usr/local/lib/python3.7/dist-packages (from python-dateutil>=2.1->matplotlib->roboticstoolbox-python[VPython]) (1.15.0)\n",
            "Requirement already satisfied: python-utils>=1.6.2 in /usr/local/lib/python3.7/dist-packages (from numpy-stl->roboticstoolbox-python[VPython]) (3.2.3)\n",
            "Requirement already satisfied: ipykernel in /usr/local/lib/python3.7/dist-packages (from vpython->roboticstoolbox-python[VPython]) (4.10.1)\n",
            "Requirement already satisfied: jupyter in /usr/local/lib/python3.7/dist-packages (from vpython->roboticstoolbox-python[VPython]) (1.0.0)\n",
            "Collecting autobahn>=18.8.2\n",
            "  Downloading autobahn-22.4.2.tar.gz (396 kB)\n",
            "\u001b[K     |████████████████████████████████| 396 kB 63.4 MB/s \n",
            "\u001b[?25hCollecting jupyter-server-proxy\n",
            "  Downloading jupyter_server_proxy-3.2.1-py3-none-any.whl (35 kB)\n",
            "Collecting txaio>=21.2.1\n",
            "  Downloading txaio-22.2.1-py2.py3-none-any.whl (30 kB)\n",
            "Collecting cryptography>=3.4.6\n",
            "  Downloading cryptography-37.0.2-cp36-abi3-manylinux_2_24_x86_64.whl (4.0 MB)\n",
            "\u001b[K     |████████████████████████████████| 4.0 MB 52.2 MB/s \n",
            "\u001b[?25hCollecting hyperlink>=21.0.0\n",
            "  Downloading hyperlink-21.0.0-py2.py3-none-any.whl (74 kB)\n",
            "\u001b[K     |████████████████████████████████| 74 kB 4.9 MB/s \n",
            "\u001b[?25hRequirement already satisfied: setuptools in /usr/local/lib/python3.7/dist-packages (from autobahn>=18.8.2->vpython->roboticstoolbox-python[VPython]) (57.4.0)\n",
            "Requirement already satisfied: cffi>=1.12 in /usr/local/lib/python3.7/dist-packages (from cryptography>=3.4.6->autobahn>=18.8.2->vpython->roboticstoolbox-python[VPython]) (1.15.0)\n",
            "Requirement already satisfied: pycparser in /usr/local/lib/python3.7/dist-packages (from cffi>=1.12->cryptography>=3.4.6->autobahn>=18.8.2->vpython->roboticstoolbox-python[VPython]) (2.21)\n",
            "Requirement already satisfied: idna>=2.5 in /usr/local/lib/python3.7/dist-packages (from hyperlink>=21.0.0->autobahn>=18.8.2->vpython->roboticstoolbox-python[VPython]) (2.10)\n",
            "Requirement already satisfied: traitlets>=4.1.0 in /usr/local/lib/python3.7/dist-packages (from ipykernel->vpython->roboticstoolbox-python[VPython]) (5.1.1)\n",
            "Requirement already satisfied: ipython>=4.0.0 in /usr/local/lib/python3.7/dist-packages (from ipykernel->vpython->roboticstoolbox-python[VPython]) (5.5.0)\n",
            "Requirement already satisfied: jupyter-client in /usr/local/lib/python3.7/dist-packages (from ipykernel->vpython->roboticstoolbox-python[VPython]) (5.3.5)\n",
            "Requirement already satisfied: tornado>=4.0 in /usr/local/lib/python3.7/dist-packages (from ipykernel->vpython->roboticstoolbox-python[VPython]) (5.1.1)\n",
            "Requirement already satisfied: simplegeneric>0.8 in /usr/local/lib/python3.7/dist-packages (from ipython>=4.0.0->ipykernel->vpython->roboticstoolbox-python[VPython]) (0.8.1)\n",
            "Requirement already satisfied: decorator in /usr/local/lib/python3.7/dist-packages (from ipython>=4.0.0->ipykernel->vpython->roboticstoolbox-python[VPython]) (4.4.2)\n",
            "Requirement already satisfied: prompt-toolkit<2.0.0,>=1.0.4 in /usr/local/lib/python3.7/dist-packages (from ipython>=4.0.0->ipykernel->vpython->roboticstoolbox-python[VPython]) (1.0.18)\n",
            "Requirement already satisfied: pygments in /usr/local/lib/python3.7/dist-packages (from ipython>=4.0.0->ipykernel->vpython->roboticstoolbox-python[VPython]) (2.6.1)\n",
            "Requirement already satisfied: pickleshare in /usr/local/lib/python3.7/dist-packages (from ipython>=4.0.0->ipykernel->vpython->roboticstoolbox-python[VPython]) (0.7.5)\n",
            "Requirement already satisfied: pexpect in /usr/local/lib/python3.7/dist-packages (from ipython>=4.0.0->ipykernel->vpython->roboticstoolbox-python[VPython]) (4.8.0)\n",
            "Requirement already satisfied: wcwidth in /usr/local/lib/python3.7/dist-packages (from prompt-toolkit<2.0.0,>=1.0.4->ipython>=4.0.0->ipykernel->vpython->roboticstoolbox-python[VPython]) (0.2.5)\n",
            "Requirement already satisfied: nbconvert in /usr/local/lib/python3.7/dist-packages (from jupyter->vpython->roboticstoolbox-python[VPython]) (5.6.1)\n",
            "Requirement already satisfied: notebook in /usr/local/lib/python3.7/dist-packages (from jupyter->vpython->roboticstoolbox-python[VPython]) (5.3.1)\n",
            "Requirement already satisfied: ipywidgets in /usr/local/lib/python3.7/dist-packages (from jupyter->vpython->roboticstoolbox-python[VPython]) (7.7.0)\n",
            "Requirement already satisfied: jupyter-console in /usr/local/lib/python3.7/dist-packages (from jupyter->vpython->roboticstoolbox-python[VPython]) (5.2.0)\n",
            "Requirement already satisfied: qtconsole in /usr/local/lib/python3.7/dist-packages (from jupyter->vpython->roboticstoolbox-python[VPython]) (5.3.0)\n",
            "Requirement already satisfied: nbformat>=4.2.0 in /usr/local/lib/python3.7/dist-packages (from ipywidgets->jupyter->vpython->roboticstoolbox-python[VPython]) (5.4.0)\n",
            "Requirement already satisfied: ipython-genutils~=0.2.0 in /usr/local/lib/python3.7/dist-packages (from ipywidgets->jupyter->vpython->roboticstoolbox-python[VPython]) (0.2.0)\n",
            "Requirement already satisfied: widgetsnbextension~=3.6.0 in /usr/local/lib/python3.7/dist-packages (from ipywidgets->jupyter->vpython->roboticstoolbox-python[VPython]) (3.6.0)\n",
            "Requirement already satisfied: jupyterlab-widgets>=1.0.0 in /usr/local/lib/python3.7/dist-packages (from ipywidgets->jupyter->vpython->roboticstoolbox-python[VPython]) (1.1.0)\n",
            "Requirement already satisfied: jsonschema>=2.6 in /usr/local/lib/python3.7/dist-packages (from nbformat>=4.2.0->ipywidgets->jupyter->vpython->roboticstoolbox-python[VPython]) (4.3.3)\n",
            "Requirement already satisfied: jupyter-core in /usr/local/lib/python3.7/dist-packages (from nbformat>=4.2.0->ipywidgets->jupyter->vpython->roboticstoolbox-python[VPython]) (4.10.0)\n",
            "Requirement already satisfied: fastjsonschema in /usr/local/lib/python3.7/dist-packages (from nbformat>=4.2.0->ipywidgets->jupyter->vpython->roboticstoolbox-python[VPython]) (2.15.3)\n",
            "Requirement already satisfied: importlib-resources>=1.4.0 in /usr/local/lib/python3.7/dist-packages (from jsonschema>=2.6->nbformat>=4.2.0->ipywidgets->jupyter->vpython->roboticstoolbox-python[VPython]) (5.7.1)\n",
            "Requirement already satisfied: attrs>=17.4.0 in /usr/local/lib/python3.7/dist-packages (from jsonschema>=2.6->nbformat>=4.2.0->ipywidgets->jupyter->vpython->roboticstoolbox-python[VPython]) (21.4.0)\n",
            "Requirement already satisfied: pyrsistent!=0.17.0,!=0.17.1,!=0.17.2,>=0.14.0 in /usr/local/lib/python3.7/dist-packages (from jsonschema>=2.6->nbformat>=4.2.0->ipywidgets->jupyter->vpython->roboticstoolbox-python[VPython]) (0.18.1)\n",
            "Requirement already satisfied: importlib-metadata in /usr/local/lib/python3.7/dist-packages (from jsonschema>=2.6->nbformat>=4.2.0->ipywidgets->jupyter->vpython->roboticstoolbox-python[VPython]) (4.11.3)\n",
            "Requirement already satisfied: zipp>=3.1.0 in /usr/local/lib/python3.7/dist-packages (from importlib-resources>=1.4.0->jsonschema>=2.6->nbformat>=4.2.0->ipywidgets->jupyter->vpython->roboticstoolbox-python[VPython]) (3.8.0)\n",
            "Requirement already satisfied: jinja2 in /usr/local/lib/python3.7/dist-packages (from notebook->jupyter->vpython->roboticstoolbox-python[VPython]) (2.11.3)\n",
            "Requirement already satisfied: Send2Trash in /usr/local/lib/python3.7/dist-packages (from notebook->jupyter->vpython->roboticstoolbox-python[VPython]) (1.8.0)\n",
            "Requirement already satisfied: terminado>=0.8.1 in /usr/local/lib/python3.7/dist-packages (from notebook->jupyter->vpython->roboticstoolbox-python[VPython]) (0.13.3)\n",
            "Requirement already satisfied: pyzmq>=13 in /usr/local/lib/python3.7/dist-packages (from jupyter-client->ipykernel->vpython->roboticstoolbox-python[VPython]) (23.0.0)\n",
            "Requirement already satisfied: ptyprocess in /usr/local/lib/python3.7/dist-packages (from terminado>=0.8.1->notebook->jupyter->vpython->roboticstoolbox-python[VPython]) (0.7.0)\n",
            "Requirement already satisfied: MarkupSafe>=0.23 in /usr/local/lib/python3.7/dist-packages (from jinja2->notebook->jupyter->vpython->roboticstoolbox-python[VPython]) (2.0.1)\n",
            "Collecting simpervisor>=0.4\n",
            "  Downloading simpervisor-0.4-py3-none-any.whl (5.7 kB)\n",
            "Collecting aiohttp\n",
            "  Downloading aiohttp-3.8.1-cp37-cp37m-manylinux_2_5_x86_64.manylinux1_x86_64.manylinux_2_12_x86_64.manylinux2010_x86_64.whl (1.1 MB)\n",
            "\u001b[K     |████████████████████████████████| 1.1 MB 55.7 MB/s \n",
            "\u001b[?25hCollecting jupyter-server>=1.0\n",
            "  Downloading jupyter_server-1.17.0-py3-none-any.whl (342 kB)\n",
            "\u001b[K     |████████████████████████████████| 342 kB 72.5 MB/s \n",
            "\u001b[?25hCollecting nbconvert\n",
            "  Downloading nbconvert-6.5.0-py3-none-any.whl (561 kB)\n",
            "\u001b[K     |████████████████████████████████| 561 kB 63.6 MB/s \n",
            "\u001b[?25hCollecting anyio<4,>=3.1.0\n",
            "  Downloading anyio-3.6.1-py3-none-any.whl (80 kB)\n",
            "\u001b[K     |████████████████████████████████| 80 kB 12.0 MB/s \n",
            "\u001b[?25hRequirement already satisfied: argon2-cffi in /usr/local/lib/python3.7/dist-packages (from jupyter-server>=1.0->jupyter-server-proxy->vpython->roboticstoolbox-python[VPython]) (21.3.0)\n",
            "Collecting websocket-client\n",
            "  Downloading websocket_client-1.3.2-py3-none-any.whl (54 kB)\n",
            "\u001b[K     |████████████████████████████████| 54 kB 3.8 MB/s \n",
            "\u001b[?25hCollecting jupyter-client\n",
            "  Downloading jupyter_client-7.3.1-py3-none-any.whl (130 kB)\n",
            "\u001b[K     |████████████████████████████████| 130 kB 78.7 MB/s \n",
            "\u001b[?25hRequirement already satisfied: packaging in /usr/local/lib/python3.7/dist-packages (from jupyter-server>=1.0->jupyter-server-proxy->vpython->roboticstoolbox-python[VPython]) (21.3)\n",
            "Requirement already satisfied: prometheus-client in /usr/local/lib/python3.7/dist-packages (from jupyter-server>=1.0->jupyter-server-proxy->vpython->roboticstoolbox-python[VPython]) (0.14.1)\n",
            "Collecting tornado>=4.0\n",
            "  Downloading tornado-6.1-cp37-cp37m-manylinux2010_x86_64.whl (428 kB)\n",
            "\u001b[K     |████████████████████████████████| 428 kB 76.2 MB/s \n",
            "\u001b[?25hCollecting sniffio>=1.1\n",
            "  Downloading sniffio-1.2.0-py3-none-any.whl (10 kB)\n",
            "Requirement already satisfied: nest-asyncio>=1.5.4 in /usr/local/lib/python3.7/dist-packages (from jupyter-client->ipykernel->vpython->roboticstoolbox-python[VPython]) (1.5.5)\n",
            "Requirement already satisfied: entrypoints in /usr/local/lib/python3.7/dist-packages (from jupyter-client->ipykernel->vpython->roboticstoolbox-python[VPython]) (0.4)\n",
            "Requirement already satisfied: mistune<2,>=0.8.1 in /usr/local/lib/python3.7/dist-packages (from nbconvert->jupyter->vpython->roboticstoolbox-python[VPython]) (0.8.4)\n",
            "Requirement already satisfied: beautifulsoup4 in /usr/local/lib/python3.7/dist-packages (from nbconvert->jupyter->vpython->roboticstoolbox-python[VPython]) (4.6.3)\n",
            "Requirement already satisfied: defusedxml in /usr/local/lib/python3.7/dist-packages (from nbconvert->jupyter->vpython->roboticstoolbox-python[VPython]) (0.7.1)\n",
            "Requirement already satisfied: nbclient>=0.5.0 in /usr/local/lib/python3.7/dist-packages (from nbconvert->jupyter->vpython->roboticstoolbox-python[VPython]) (0.6.3)\n",
            "Requirement already satisfied: pandocfilters>=1.4.1 in /usr/local/lib/python3.7/dist-packages (from nbconvert->jupyter->vpython->roboticstoolbox-python[VPython]) (1.5.0)\n",
            "Requirement already satisfied: tinycss2 in /usr/local/lib/python3.7/dist-packages (from nbconvert->jupyter->vpython->roboticstoolbox-python[VPython]) (1.1.1)\n",
            "Requirement already satisfied: jupyterlab-pygments in /usr/local/lib/python3.7/dist-packages (from nbconvert->jupyter->vpython->roboticstoolbox-python[VPython]) (0.2.2)\n",
            "Collecting jinja2\n",
            "  Downloading Jinja2-3.1.2-py3-none-any.whl (133 kB)\n",
            "\u001b[K     |████████████████████████████████| 133 kB 78.6 MB/s \n",
            "\u001b[?25hRequirement already satisfied: bleach in /usr/local/lib/python3.7/dist-packages (from nbconvert->jupyter->vpython->roboticstoolbox-python[VPython]) (5.0.0)\n",
            "Collecting yarl<2.0,>=1.0\n",
            "  Downloading yarl-1.7.2-cp37-cp37m-manylinux_2_5_x86_64.manylinux1_x86_64.manylinux_2_12_x86_64.manylinux2010_x86_64.whl (271 kB)\n",
            "\u001b[K     |████████████████████████████████| 271 kB 76.3 MB/s \n",
            "\u001b[?25hCollecting aiosignal>=1.1.2\n",
            "  Downloading aiosignal-1.2.0-py3-none-any.whl (8.2 kB)\n",
            "Collecting async-timeout<5.0,>=4.0.0a3\n",
            "  Downloading async_timeout-4.0.2-py3-none-any.whl (5.8 kB)\n",
            "Collecting multidict<7.0,>=4.5\n",
            "  Downloading multidict-6.0.2-cp37-cp37m-manylinux_2_17_x86_64.manylinux2014_x86_64.whl (94 kB)\n",
            "\u001b[K     |████████████████████████████████| 94 kB 4.6 MB/s \n",
            "\u001b[?25hRequirement already satisfied: charset-normalizer<3.0,>=2.0 in /usr/local/lib/python3.7/dist-packages (from aiohttp->jupyter-server-proxy->vpython->roboticstoolbox-python[VPython]) (2.0.12)\n",
            "Collecting frozenlist>=1.1.1\n",
            "  Downloading frozenlist-1.3.0-cp37-cp37m-manylinux_2_5_x86_64.manylinux1_x86_64.manylinux_2_17_x86_64.manylinux2014_x86_64.whl (144 kB)\n",
            "\u001b[K     |████████████████████████████████| 144 kB 79.5 MB/s \n",
            "\u001b[?25hCollecting asynctest==0.13.0\n",
            "  Downloading asynctest-0.13.0-py3-none-any.whl (26 kB)\n",
            "Requirement already satisfied: argon2-cffi-bindings in /usr/local/lib/python3.7/dist-packages (from argon2-cffi->jupyter-server>=1.0->jupyter-server-proxy->vpython->roboticstoolbox-python[VPython]) (21.2.0)\n",
            "Requirement already satisfied: webencodings in /usr/local/lib/python3.7/dist-packages (from bleach->nbconvert->jupyter->vpython->roboticstoolbox-python[VPython]) (0.5.1)\n",
            "Requirement already satisfied: qtpy>=2.0.1 in /usr/local/lib/python3.7/dist-packages (from qtconsole->jupyter->vpython->roboticstoolbox-python[VPython]) (2.1.0)\n",
            "Building wheels for collected packages: ansitable, colored, pgraph-python, progress, autobahn\n",
            "  Building wheel for ansitable (setup.py) ... \u001b[?25l\u001b[?25hdone\n",
            "  Created wheel for ansitable: filename=ansitable-0.9.6-py3-none-any.whl size=12621 sha256=df55ab7ee9f0eeb7d035221623fd168e394c93eaf441fa38240f400d47173452\n",
            "  Stored in directory: /root/.cache/pip/wheels/57/a4/a9/84ed983596f261a978c880aba60eba145e76aa5a59e455f189\n",
            "  Building wheel for colored (setup.py) ... \u001b[?25l\u001b[?25hdone\n",
            "  Created wheel for colored: filename=colored-1.4.3-py3-none-any.whl size=14342 sha256=496a0921391c2de844a5e24849a6f05f071af424dcf5498c351c772464f90488\n",
            "  Stored in directory: /root/.cache/pip/wheels/4a/f6/00/835e81851bc345428a253721c8bdad0062721dfb861bc6e752\n",
            "  Building wheel for pgraph-python (setup.py) ... \u001b[?25l\u001b[?25hdone\n",
            "  Created wheel for pgraph-python: filename=pgraph_python-0.6.1-py3-none-any.whl size=11482 sha256=2070c65d40e532c81611acdacaa627d22a2caa6e2422795b384b22e16a038603\n",
            "  Stored in directory: /root/.cache/pip/wheels/0c/96/4a/6802f53d94902fa9431fe1d0ca769f5da8faee8894188c1fd5\n",
            "  Building wheel for progress (setup.py) ... \u001b[?25l\u001b[?25hdone\n",
            "  Created wheel for progress: filename=progress-1.6-py3-none-any.whl size=9632 sha256=15e1ef836f6a0380550814995f0ebf788dab38effccd143abb24cfa1b5d02de1\n",
            "  Stored in directory: /root/.cache/pip/wheels/8e/d7/61/498d8e27dc11e9805b01eb3539e2ee344436fc226daeb5fe87\n",
            "  Building wheel for autobahn (setup.py) ... \u001b[?25l\u001b[?25hdone\n",
            "  Created wheel for autobahn: filename=autobahn-22.4.2-cp37-cp37m-linux_x86_64.whl size=580349 sha256=39b7e8738d6687d8ab8000ac735a0757afd1076cd0ad46bd7c1779f18cc10a63\n",
            "  Stored in directory: /root/.cache/pip/wheels/ec/0b/fc/7cf072cb66e08c9365e03420a6447aa45da6f70dd4b08b223c\n",
            "Successfully built ansitable colored pgraph-python progress autobahn\n",
            "Installing collected packages: tornado, jupyter-client, jinja2, nbconvert, colored, sniffio, multidict, frozenlist, ansitable, yarl, websocket-client, spatialmath-python, asynctest, async-timeout, anyio, aiosignal, websockets, txaio, spatialgeometry, simpervisor, jupyter-server, hyperlink, cryptography, aiohttp, swift-sim, rtb-data, progress, pgraph-python, jupyter-server-proxy, autobahn, vpython, roboticstoolbox-python, numpy-stl, imageio-ffmpeg\n",
            "  Attempting uninstall: tornado\n",
            "    Found existing installation: tornado 5.1.1\n",
            "    Uninstalling tornado-5.1.1:\n",
            "      Successfully uninstalled tornado-5.1.1\n",
            "  Attempting uninstall: jupyter-client\n",
            "    Found existing installation: jupyter-client 5.3.5\n",
            "    Uninstalling jupyter-client-5.3.5:\n",
            "      Successfully uninstalled jupyter-client-5.3.5\n",
            "  Attempting uninstall: jinja2\n",
            "    Found existing installation: Jinja2 2.11.3\n",
            "    Uninstalling Jinja2-2.11.3:\n",
            "      Successfully uninstalled Jinja2-2.11.3\n",
            "  Attempting uninstall: nbconvert\n",
            "    Found existing installation: nbconvert 5.6.1\n",
            "    Uninstalling nbconvert-5.6.1:\n",
            "      Successfully uninstalled nbconvert-5.6.1\n",
            "\u001b[31mERROR: pip's dependency resolver does not currently take into account all the packages that are installed. This behaviour is the source of the following dependency conflicts.\n",
            "google-colab 1.0.0 requires tornado~=5.1.0; python_version >= \"3.0\", but you have tornado 6.1 which is incompatible.\n",
            "flask 1.1.4 requires Jinja2<3.0,>=2.10.1, but you have jinja2 3.1.2 which is incompatible.\n",
            "datascience 0.10.6 requires folium==0.2.1, but you have folium 0.8.3 which is incompatible.\u001b[0m\n",
            "Successfully installed aiohttp-3.8.1 aiosignal-1.2.0 ansitable-0.9.6 anyio-3.6.1 async-timeout-4.0.2 asynctest-0.13.0 autobahn-22.4.2 colored-1.4.3 cryptography-37.0.2 frozenlist-1.3.0 hyperlink-21.0.0 imageio-ffmpeg-0.4.7 jinja2-3.1.2 jupyter-client-7.3.1 jupyter-server-1.17.0 jupyter-server-proxy-3.2.1 multidict-6.0.2 nbconvert-6.5.0 numpy-stl-2.17.1 pgraph-python-0.6.1 progress-1.6 roboticstoolbox-python-1.0.1 rtb-data-1.0.0 simpervisor-0.4 sniffio-1.2.0 spatialgeometry-1.0.1 spatialmath-python-1.0.0 swift-sim-1.0.0 tornado-6.1 txaio-22.2.1 vpython-7.6.3 websocket-client-1.3.2 websockets-10.3 yarl-1.7.2\n"
          ]
        },
        {
          "output_type": "display_data",
          "data": {
            "application/vnd.colab-display-data+json": {
              "pip_warning": {
                "packages": [
                  "jupyter_client",
                  "tornado"
                ]
              }
            }
          },
          "metadata": {}
        },
        {
          "output_type": "stream",
          "name": "stdout",
          "text": [
            "Looking in indexes: https://pypi.org/simple, https://us-python.pkg.dev/colab-wheels/public/simple/\n",
            "Requirement already satisfied: numpy in /usr/local/lib/python3.7/dist-packages (1.21.6)\n"
          ]
        }
      ],
      "source": [
        "!pip install roboticstoolbox-python['VPython']\n",
        "!pip install -U numpy"
      ]
    },
    {
      "cell_type": "code",
      "execution_count": null,
      "metadata": {
        "id": "7yfX6H3DE4HB"
      },
      "outputs": [],
      "source": [
        "#Importing \n",
        "from roboticstoolbox import DHRobot, RevoluteDH, ERobot, ELink, ETS\n",
        "import roboticstoolbox as rtb\n",
        "from math import pi, sin, cos\n",
        "import numpy as np\n",
        "np.set_printoptions(linewidth=100, suppress=True)\n",
        "\n",
        "#Defining characteristics of the links\n",
        "m1,l1,lc1 = 1,1,0.5\n",
        "m2,l2,c2 = 1,1,0.5\n",
        "\n",
        "#Defining characteristics of link 2\n",
        "m2,l2,lc2 = 1,1,0.5\n",
        "\n",
        "# joint configurations\n",
        "\n",
        "\"\"\"\n",
        "q1 = [0, 0]        # o-o- arm horizontal\n",
        "q2 = [0, pi/2]    # o-o| upper arm horizontal, lower arm vertical\n",
        "q3 = [pi/2, 0]    # o|o| arm vertical\n",
        "q4 = [pi/2, -pi/2] # o|o- upper arm upward, lower arm horizontal\n",
        "qq = [q1, q2, q3, q4]\n",
        "\"\"\"\n",
        "z = [0, 0]\n",
        "\n",
        "# global parameters\n",
        "g = 9.81\n",
        "\n",
        "L1 = RevoluteDH(a=l1, m=m1, r=[-lc1, 0, 0])\n",
        "L2 = RevoluteDH(a=l2, m=m2, r=[-lc2, 0, 0])\n",
        "robot = DHRobot([L1, L2], gravity=[0, g, 0])"
      ]
    },
    {
      "cell_type": "code",
      "execution_count": null,
      "metadata": {
        "id": "Wq2e0FWLFa-z"
      },
      "outputs": [],
      "source": []
    },
    {
      "cell_type": "code",
      "execution_count": null,
      "metadata": {
        "colab": {
          "base_uri": "https://localhost:8080/",
          "height": 259
        },
        "id": "BUwarGxkH2Cj",
        "outputId": "4711c1da-b2d6-447e-b1fa-61b1781194bc"
      },
      "outputs": [
        {
          "output_type": "display_data",
          "data": {
            "image/png": "[encoded data removed]",
            "text/plain": [
              "<Figure size 432x288 with 1 Axes>"
            ]
          },
          "metadata": {}
        }
      ],
      "source": [
        "import numpy as np\n",
        "import torch\n",
        "import shutil\n",
        "import torch.autograd as Variable\n",
        "\n",
        "\n",
        "def soft_update(target, source, tau):\n",
        "\t\"\"\"\n",
        "\tCopies the parameters from source network (x) to target network (y) using the below update\n",
        "\ty = TAU*x + (1 - TAU)*y\n",
        "\t:param target: Target network (PyTorch)\n",
        "\t:param source: Source network (PyTorch)\n",
        "\t:return:\n",
        "\t\"\"\"\n",
        "\tfor target_param, param in zip(target.parameters(), source.parameters()):\n",
        "\t\ttarget_param.data.copy_(\n",
        "\t\t\ttarget_param.data * (1.0 - tau) + param.data * tau\n",
        "\t\t)\n",
        "\n",
        "\n",
        "def hard_update(target, source):\n",
        "\t\"\"\"\n",
        "\tCopies the parameters from source network to target network\n",
        "\t:param target: Target network (PyTorch)\n",
        "\t:param source: Source network (PyTorch)\n",
        "\t:return:\n",
        "\t\"\"\"\n",
        "\tfor target_param, param in zip(target.parameters(), source.parameters()):\n",
        "\t\t\ttarget_param.data.copy_(param.data)\n",
        "\n",
        "\n",
        "def save_training_checkpoint(state, is_best, episode_count):\n",
        "\t\"\"\"\n",
        "\tSaves the models, with all training parameters intact\n",
        "\t:param state:\n",
        "\t:param is_best:\n",
        "\t:param filename:\n",
        "\t:return:\n",
        "\t\"\"\"\n",
        "\tfilename = str(episode_count) + 'checkpoint.path.rar'\n",
        "\ttorch.save(state, filename)\n",
        "\tif is_best:\n",
        "\t\tshutil.copyfile(filename, 'model_best.pth.tar')\n",
        "\n",
        "\n",
        "# Based on http://math.stackexchange.com/questions/1287634/implementing-ornstein-uhlenbeck-in-matlab\n",
        "class OrnsteinUhlenbeckActionNoise:\n",
        "\n",
        "\tdef __init__(self, action_dim, mu = 0, theta = 0.15, sigma = 0.2):\n",
        "\t\tself.action_dim = action_dim\n",
        "\t\tself.mu = mu\n",
        "\t\tself.theta = theta\n",
        "\t\tself.sigma = sigma\n",
        "\t\tself.X = np.ones(self.action_dim) * self.mu\n",
        "\n",
        "\tdef reset(self):\n",
        "\t\tself.X = np.ones(self.action_dim) * self.mu\n",
        "\n",
        "\tdef sample(self):\n",
        "\t\tdx = self.theta * (self.mu - self.X)\n",
        "\t\tdx = dx + self.sigma * np.random.randn(len(self.X))\n",
        "\t\tself.X = self.X + dx\n",
        "\t\treturn self.X\n",
        "\n",
        "\n",
        "# use this to plot Ornstein Uhlenbeck random motion\n",
        "if __name__ == '__main__':\n",
        "\tou = OrnsteinUhlenbeckActionNoise(1)\n",
        "\tstates = []\n",
        "\tfor i in range(1000):\n",
        "\t\tstates.append(ou.sample())\n",
        "\timport matplotlib.pyplot as plt\n",
        "\n",
        "\tplt.plot(states)\n",
        "\tplt.show()"
      ]
    },
    {
      "cell_type": "code",
      "execution_count": null,
      "metadata": {
        "id": "WHDZiu2FH44f"
      },
      "outputs": [],
      "source": [
        "import numpy as np\n",
        "import random\n",
        "from collections import deque\n",
        "\n",
        "\n",
        "class MemoryBuffer:\n",
        "\n",
        "\tdef __init__(self, size):\n",
        "\t\tself.buffer = deque(maxlen=size)\n",
        "\t\tself.maxSize = size\n",
        "\t\tself.len = 0\n",
        "\n",
        "\tdef sample(self, count):\n",
        "\t\t\"\"\"\n",
        "\t\tsamples a random batch from the replay memory buffer\n",
        "\t\t:param count: batch size\n",
        "\t\t:return: batch (numpy array)\n",
        "\t\t\"\"\"\n",
        "\t\tbatch = []\n",
        "\t\tcount = min(count, self.len)\n",
        "\t\tbatch = random.sample(self.buffer, count)\n",
        "\n",
        "\t\ts_arr = np.float32([arr[0] for arr in batch])\n",
        "\t\ta_arr = np.float32([arr[1] for arr in batch])\n",
        "\t\tr_arr = np.float32([arr[2] for arr in batch])\n",
        "\t\ts1_arr = np.float32([arr[3] for arr in batch])\n",
        "\n",
        "\t\treturn s_arr, a_arr, r_arr, s1_arr\n",
        "\n",
        "\tdef len(self):\n",
        "\t\treturn self.len\n",
        "\n",
        "\tdef add(self, s, a, r, s1):\n",
        "\t\t\"\"\"\n",
        "\t\tadds a particular transaction in the memory buffer\n",
        "\t\t:param s: current state\n",
        "\t\t:param a: action taken\n",
        "\t\t:param r: reward received\n",
        "\t\t:param s1: next state\n",
        "\t\t:return:\n",
        "\t\t\"\"\"\n",
        "\t\ttransition = (s,a,r,s1)\n",
        "\t\tself.len += 1\n",
        "\t\tif self.len > self.maxSize:\n",
        "\t\t\tself.len = self.maxSize\n",
        "\t\tself.buffer.append(transition)"
      ]
    },
    {
      "cell_type": "code",
      "execution_count": null,
      "metadata": {
        "id": "3jAt7pWhH_1r"
      },
      "outputs": [],
      "source": [
        "import torch\n",
        "import torch.nn as nn\n",
        "import torch.nn.functional as F\n",
        "import numpy as np\n",
        "\n",
        "EPS = 0.003\n",
        "\n",
        "def fanin_init(size, fanin=None):\n",
        "\tfanin = fanin or size[0]\n",
        "\tv = 1. / np.sqrt(fanin)\n",
        "\treturn torch.Tensor(size).uniform_(-v, v)\n",
        "\n",
        "class Critic(nn.Module):\n",
        "\n",
        "\tdef __init__(self, state_dim, action_dim):\n",
        "\t\t\"\"\"\n",
        "\t\t:param state_dim: Dimension of input state (int)\n",
        "\t\t:param action_dim: Dimension of input action (int)\n",
        "\t\t:return:\n",
        "\t\t\"\"\"\n",
        "\t\tsuper(Critic, self).__init__()\n",
        "\n",
        "\t\tself.state_dim = state_dim\n",
        "\t\tself.action_dim = action_dim\n",
        "\n",
        "\t\tself.fcs1 = nn.Linear(state_dim,256)\n",
        "\t\tself.fcs1.weight.data = fanin_init(self.fcs1.weight.data.size())\n",
        "\t\tself.fcs2 = nn.Linear(256,128)\n",
        "\t\tself.fcs2.weight.data = fanin_init(self.fcs2.weight.data.size())\n",
        "\n",
        "\t\tself.fca1 = nn.Linear(action_dim,128)\n",
        "\t\tself.fca1.weight.data = fanin_init(self.fca1.weight.data.size())\n",
        "\n",
        "\t\tself.fc2 = nn.Linear(256,128)\n",
        "\t\tself.fc2.weight.data = fanin_init(self.fc2.weight.data.size())\n",
        "\n",
        "\t\tself.fc3 = nn.Linear(128,1)\n",
        "\t\tself.fc3.weight.data.uniform_(-EPS,EPS)\n",
        "\n",
        "\tdef forward(self, state, action):\n",
        "\t\t\"\"\"\n",
        "\t\treturns Value function Q(s,a) obtained from critic network\n",
        "\t\t:param state: Input state (Torch Variable : [n,state_dim] )\n",
        "\t\t:param action: Input Action (Torch Variable : [n,action_dim] )\n",
        "\t\t:return: Value function : Q(S,a) (Torch Variable : [n,1] )\n",
        "\t\t\"\"\"\n",
        "\t\ts1 = F.relu(self.fcs1(state))\n",
        "\t\ts2 = F.relu(self.fcs2(s1))\n",
        "\t\ta1 = F.relu(self.fca1(action))\n",
        "\t\tx = torch.cat((s2,a1),dim=1)\n",
        "\n",
        "\t\tx = F.relu(self.fc2(x))\n",
        "\t\tx = self.fc3(x)\n",
        "\n",
        "\t\treturn x\n",
        "\n",
        "\n",
        "class Actor(nn.Module):\n",
        "\n",
        "\tdef __init__(self, state_dim, action_dim, action_lim):\n",
        "\t\t\"\"\"\n",
        "\t\t:param state_dim: Dimension of input state (int)\n",
        "\t\t:param action_dim: Dimension of output action (int)\n",
        "\t\t:param action_lim: Used to limit action in [-action_lim,action_lim]\n",
        "\t\t:return:\n",
        "\t\t\"\"\"\n",
        "\t\tsuper(Actor, self).__init__()\n",
        "\n",
        "\t\tself.state_dim = state_dim\n",
        "\t\tself.action_dim = action_dim\n",
        "\t\tself.action_lim = action_lim\n",
        "\n",
        "\t\tself.fc1 = nn.Linear(state_dim,256)\n",
        "\t\tself.fc1.weight.data = fanin_init(self.fc1.weight.data.size())\n",
        "\n",
        "\t\tself.fc2 = nn.Linear(256,128)\n",
        "\t\tself.fc2.weight.data = fanin_init(self.fc2.weight.data.size())\n",
        "\n",
        "\t\tself.fc3 = nn.Linear(128,64)\n",
        "\t\tself.fc3.weight.data = fanin_init(self.fc3.weight.data.size())\n",
        "\n",
        "\t\tself.fc4 = nn.Linear(64,action_dim)\n",
        "\t\tself.fc4.weight.data.uniform_(-EPS,EPS)\n",
        "\n",
        "\tdef forward(self, state):\n",
        "\t\t\"\"\"\n",
        "\t\treturns policy function Pi(s) obtained from actor network\n",
        "\t\tthis function is a gaussian prob distribution for all actions\n",
        "\t\twith mean lying in (-1,1) and sigma lying in (0,1)\n",
        "\t\tThe sampled action can , then later be rescaled\n",
        "\t\t:param state: Input state (Torch Variable : [n,state_dim] )\n",
        "\t\t:return: Output action (Torch Variable: [n,action_dim] )\n",
        "\t\t\"\"\"\n",
        "\t\tx = F.relu(self.fc1(state))\n",
        "\t\tx = F.relu(self.fc2(x))\n",
        "\t\tx = F.relu(self.fc3(x))\n",
        "\t\taction = F.tanh(self.fc4(x))\n",
        "\n",
        "\t\taction = action * self.action_lim\n",
        "\n",
        "\t\treturn action\n"
      ]
    },
    {
      "cell_type": "code",
      "execution_count": null,
      "metadata": {
        "id": "axV7C83XIDsL"
      },
      "outputs": [],
      "source": [
        "from __future__ import division\n",
        "import torch\n",
        "import torch.nn as nn\n",
        "import torch.nn.functional as F\n",
        "from torch.autograd import Variable\n",
        "\n",
        "import numpy as np\n",
        "import math\n",
        "\n",
        "#import utils\n",
        "#import model\n",
        "\n",
        "BATCH_SIZE = 128\n",
        "LEARNING_RATE = 0.001\n",
        "GAMMA = 0.99\n",
        "TAU = 0.001\n",
        "\n",
        "\n",
        "class Trainer:\n",
        "\n",
        "\tdef __init__(self, state_dim, action_dim, action_lim, ram):\n",
        "\t\t\"\"\"\n",
        "\t\t:param state_dim: Dimensions of state (int)\n",
        "\t\t:param action_dim: Dimension of action (int)\n",
        "\t\t:param action_lim: Used to limit action in [-action_lim,action_lim]\n",
        "\t\t:param ram: replay memory buffer object\n",
        "\t\t:return:\n",
        "\t\t\"\"\"\n",
        "\t\tself.state_dim = state_dim\n",
        "\t\tself.action_dim = action_dim\n",
        "\t\tself.action_lim = action_lim\n",
        "\t\tself.ram = ram\n",
        "\t\tself.iter = 0\n",
        "\t\tself.noise = OrnsteinUhlenbeckActionNoise(self.action_dim)\n",
        "  #self.noise = utils.OrnsteinUhlenbeckActionNoise(self.action_dim)\n",
        "\n",
        "\t\tself.actor = Actor(self.state_dim, self.action_dim, self.action_lim)\n",
        "\t\tself.target_actor = Actor(self.state_dim, self.action_dim, self.action_lim)\n",
        "\t\tself.actor_optimizer = torch.optim.Adam(self.actor.parameters(),LEARNING_RATE)\n",
        "\n",
        "\t\tself.critic = Critic(self.state_dim, self.action_dim)\n",
        "\t\tself.target_critic = Critic(self.state_dim, self.action_dim)\n",
        "\t\tself.critic_optimizer = torch.optim.Adam(self.critic.parameters(),LEARNING_RATE)\n",
        "\n",
        "\t\thard_update(self.target_actor, self.actor)\n",
        "\t\thard_update(self.target_critic, self.critic)\n",
        "\n",
        "\tdef get_exploitation_action(self, state):\n",
        "\t\t\"\"\"\n",
        "\t\tgets the action from target actor added with exploration noise\n",
        "\t\t:param state: state (Numpy array)\n",
        "\t\t:return: sampled action (Numpy array)\n",
        "\t\t\"\"\"\n",
        "\t\tnew_state = Variable(torch.from_numpy(state))\n",
        "\t\taction = self.target_actor.forward(new_state).detach()\n",
        "\t\treturn action.data.numpy()\n",
        "\n",
        "\tdef get_exploration_action(self, state):\n",
        "\t\t\"\"\"\n",
        "\t\tgets the action from actor added with exploration noise\n",
        "\t\t:param state: state (Numpy array)\n",
        "\t\t:return: sampled action (Numpy array)\n",
        "\t\t\"\"\"\n",
        "\t\tnew_state = Variable(torch.from_numpy(state))\n",
        "\t\taction = self.actor.forward(new_state).detach()\n",
        "\t\tnew_action = action.data.numpy() + (self.noise.sample() * self.action_lim)\n",
        "\t\treturn new_action\n",
        "\n",
        "\tdef optimize(self):\n",
        "\t\t\"\"\"\n",
        "\t\tSamples a random batch from replay memory and performs optimization\n",
        "\t\t:return:\n",
        "\t\t\"\"\"\n",
        "\t\ts1,a1,r1,s2 = self.ram.sample(BATCH_SIZE)\n",
        "\n",
        "\t\ts1 = Variable(torch.from_numpy(s1))\n",
        "\t\ta1 = Variable(torch.from_numpy(a1))\n",
        "\t\tr1 = Variable(torch.from_numpy(r1))\n",
        "\t\ts2 = Variable(torch.from_numpy(s2))\n",
        "\n",
        "\t\t# ---------------------- optimize critic ----------------------\n",
        "\t\t# Use target actor exploitation policy here for loss evaluation\n",
        "\t\ta2 = self.target_actor.forward(s2).detach()\n",
        "\t\tnext_val = torch.squeeze(self.target_critic.forward(s2, a2).detach())\n",
        "\t\t# y_exp = r + gamma*Q'( s2, pi'(s2))\n",
        "\t\ty_expected = r1 + GAMMA*next_val\n",
        "\t\t# y_pred = Q( s1, a1)\n",
        "\t\ty_predicted = torch.squeeze(self.critic.forward(s1, a1))\n",
        "\t\t# compute critic loss, and update the critic\n",
        "\t\tloss_critic = F.smooth_l1_loss(y_predicted, y_expected)\n",
        "\t\tself.critic_optimizer.zero_grad()\n",
        "\t\tloss_critic.backward()\n",
        "\t\tself.critic_optimizer.step()\n",
        "\n",
        "\t\t# ---------------------- optimize actor ----------------------\n",
        "\t\tpred_a1 = self.actor.forward(s1)\n",
        "\t\tloss_actor = -1*torch.sum(self.critic.forward(s1, pred_a1))\n",
        "\t\tself.actor_optimizer.zero_grad()\n",
        "\t\tloss_actor.backward()\n",
        "\t\tself.actor_optimizer.step()\n",
        "\n",
        "\t\tsoft_update(self.target_actor, self.actor, TAU)\n",
        "\t\tsoft_update(self.target_critic, self.critic, TAU)\n",
        "\n",
        "\t\t# if self.iter % 100 == 0:\n",
        "\t\t# \tprint 'Iteration :- ', self.iter, ' Loss_actor :- ', loss_actor.data.numpy(),\\\n",
        "\t\t# \t\t' Loss_critic :- ', loss_critic.data.numpy()\n",
        "\t\t# self.iter += 1\n",
        "\n",
        "\tdef save_models(self, episode_count):\n",
        "\t\t\"\"\"\n",
        "\t\tsaves the target actor and critic models\n",
        "\t\t:param episode_count: the count of episodes iterated\n",
        "\t\t:return:\n",
        "\t\t\"\"\"\n",
        "\t\ttorch.save(self.target_actor.state_dict(), './Models/' + str(episode_count) + '_actor.pt')\n",
        "\t\ttorch.save(self.target_critic.state_dict(), './Models/' + str(episode_count) + '_critic.pt')\n",
        "\t\tprint('Models saved successfully')\n",
        "\n",
        "\tdef load_models(self, episode):\n",
        "\t\t\"\"\"\n",
        "\t\tloads the target actor and critic models, and copies them onto actor and critic models\n",
        "\t\t:param episode: the count of episodes iterated (used to find the file name)\n",
        "\t\t:return:\n",
        "\t\t\"\"\"\n",
        "\t\tself.actor.load_state_dict(torch.load('./Models/' + str(episode) + '_actor.pt'))\n",
        "\t\tself.critic.load_state_dict(torch.load('./Models/' + str(episode) + '_critic.pt'))\n",
        "\t\thard_update(self.target_actor, self.actor)\n",
        "\t\thard_update(self.target_critic, self.critic)\n",
        "\t\tprint('Models loaded succesfully')"
      ]
    },
    {
      "cell_type": "code",
      "execution_count": null,
      "metadata": {
        "colab": {
          "base_uri": "https://localhost:8080/"
        },
        "id": "3EHiv96eIJxI",
        "outputId": "a2f59bbf-46c4-4855-c6ce-0bea608d8c49"
      },
      "outputs": [
        {
          "output_type": "stream",
          "name": "stdout",
          "text": [
            "[0. 0. 0. 0. 0. 0. 0. 0. 0. 0. 0. 0.]\n",
            "([0.40269908169872415, 0.40269908169872415, 4.026990816987241, 4.026990816987241, 40.26990816987241, 40.26990816987241, -0.010000000000000009, -0.010000000000000009, -4.026990816987241, -4.026990816987241, 99.5759779442172, 38.438618925938606], 105.45731886349492, True, 0)\n"
          ]
        }
      ],
      "source": [
        "#observation = env.reset()\n",
        "#Final point\n",
        "q1f = pi/8\n",
        "q2f = pi/8\n",
        "t = 0.1 #Time step\n",
        "q1_old,q2_old,qd1_old,qd2_old = 0,0,0,0 #Initializing angular speeds and accelerations as zero\n",
        "\n",
        "observation = np.zeros(12)\n",
        "print(observation)\n",
        "#define starting enviroment\n",
        "def reset():\n",
        "  global q1,q2,qd1,qd2,qdd1,qdd2,dif_q1,dif_q2,dif_qd1,dif_qd2, tau1, tau, q1_old,q2_old,qd1_old,qd2_old\n",
        "  q1,q2,qd1,qd2,qdd1,qdd2,dif_q1,dif_q2,dif_qd1,dif_qd2, tau1, tau2 = 0,0,0,0,0,0,q1f,q2f,0,0,0,0\n",
        "  q1_old,q2_old,qd1_old,qd2_old = 0,0,0,0\n",
        "  observation = q1,q2,qd1,qd2,qdd1,qdd2,dif_q1,dif_q2,dif_qd1,dif_qd2, tau1, tau2\n",
        "\n",
        "#define action function\n",
        "def take_action(a):\n",
        "  global q1_old,q2_old,qd1_old,qd2_old, q1f, q2f\n",
        "  q1,q2 = a[0] + q1_old +0.01 , a[1] + q2_old +0.01\n",
        "\n",
        "#Checking limits of the links\n",
        "  if abs(q1) > 1.6 or abs(q2) > 1.6:\n",
        "    q1,q2 = q1_old, q2_old\n",
        "    is_lim = -5\n",
        "    \n",
        "  else:\n",
        "    is_lim = 0\n",
        "\n",
        "  #Calculating speed and acceleration\n",
        "  qd1 = (q1 - q1_old)/t\n",
        "  qd2 = (q2 - q2_old)/t \n",
        "  qdd1 = (qd1 - qd1_old)/t \n",
        "  qdd2 = (qd2 - qd2_old)/t  \n",
        "\n",
        "  #Calculating ditances to endpoint\n",
        "  dif_q1 = q1f - q1\n",
        "  dif_q2 = q2f - q2\n",
        "  dif_qd1 = 0 - qd1\n",
        "  dif_qd2 = 0 - qd2\n",
        "\n",
        "  #Saving old speed and acceleration values\n",
        "  q1_old, q2_old, qd1_old, qd2_old = q1,q2,qd1,qd2\n",
        "  tau = robot.rne([q1,q2],[qd1,qd2],[qdd1,qdd2])\n",
        "  energy = abs(tau*[a[0]+0.01,a[1]+0.01])\n",
        "  inner_reward = -0.8*(energy[0] + energy[1]) -4*(abs(dif_q1) + abs(dif_q2)) + is_lim\n",
        "\n",
        "    #Check if reached final point\n",
        "  if (q1 <= q1f+ 0.07 and q1>= q1f - 0.07) and (q2<=q2f +0.07 and q2>= q2f - 0.07):\n",
        "    done_status = True\n",
        "    inner_reward += 150\n",
        "  else:\n",
        "    done_status = False\n",
        " \n",
        "  \n",
        "  arg = [q1,q2,qd1,qd2,qdd1,qdd2,dif_q1,dif_q2,dif_qd1,dif_qd2,tau[0],tau[1]]\n",
        "  return arg,inner_reward,done_status,0\n",
        "\n",
        "print(take_action([q1f,q2f]))\n"
      ]
    },
    {
      "cell_type": "code",
      "source": [
        "reset()\n",
        "print(take_action([q1f +0.02,q2f+0.02]))\n"
      ],
      "metadata": {
        "colab": {
          "base_uri": "https://localhost:8080/"
        },
        "id": "m4W0PyPYjn_k",
        "outputId": "1bb17f06-5105-4bbd-e3a7-96f109be4f15"
      },
      "execution_count": null,
      "outputs": [
        {
          "output_type": "stream",
          "name": "stdout",
          "text": [
            "([0.8553981633974483, 3.211592653589793, 8.553981633974482, 32.11592653589793, 85.53981633974482, 321.15926535897927, -0.07000000000000006, -0.06999999999999984, -8.553981633974482, -32.11592653589793, 11.666746964620948, 59.40116437577967], -145.91730325646517, True, 0)\n"
          ]
        }
      ]
    },
    {
      "cell_type": "code",
      "source": [
        "q1f+ 0.01, q1f - 0.1"
      ],
      "metadata": {
        "colab": {
          "base_uri": "https://localhost:8080/"
        },
        "id": "lBbYEq25kD7U",
        "outputId": "5bc981bc-76e5-481f-dfe4-84e5629390ca"
      },
      "execution_count": null,
      "outputs": [
        {
          "output_type": "execute_result",
          "data": {
            "text/plain": [
              "(0.7953981633974483, 0.6853981633974483)"
            ]
          },
          "metadata": {},
          "execution_count": 141
        }
      ]
    },
    {
      "cell_type": "code",
      "execution_count": null,
      "metadata": {
        "colab": {
          "base_uri": "https://localhost:8080/",
          "height": 1000
        },
        "id": "z0f5LMYAH888",
        "outputId": "288e0be9-8aef-443a-acae-a554bde9e8fa"
      },
      "outputs": [
        {
          "output_type": "stream",
          "name": "stdout",
          "text": [
            " State Dimensions :-  12\n",
            " Action Dimensions :-  2\n",
            " Action Max :-  0.02\n",
            "EPISODE :-  0\n"
          ]
        },
        {
          "output_type": "stream",
          "name": "stderr",
          "text": [
            "/usr/local/lib/python3.7/dist-packages/torch/nn/functional.py:1795: UserWarning: nn.functional.tanh is deprecated. Use torch.tanh instead.\n",
            "  warnings.warn(\"nn.functional.tanh is deprecated. Use torch.tanh instead.\")\n",
            "/usr/local/lib/python3.7/dist-packages/ipykernel_launcher.py:90: UserWarning: Using a target size (torch.Size([1])) that is different to the input size (torch.Size([])). This will likely lead to incorrect results due to broadcasting. Please ensure they have the same size.\n"
          ]
        },
        {
          "output_type": "stream",
          "name": "stdout",
          "text": [
            "Models saved successfully\n",
            "EPISODE :-  1\n",
            "EPISODE :-  2\n",
            "EPISODE :-  3\n",
            "EPISODE :-  4\n",
            "EPISODE :-  5\n",
            "EPISODE :-  6\n",
            "EPISODE :-  7\n",
            "EPISODE :-  8\n",
            "EPISODE :-  9\n",
            "EPISODE :-  10\n",
            "EPISODE :-  11\n",
            "EPISODE :-  12\n",
            "EPISODE :-  13\n",
            "EPISODE :-  14\n",
            "EPISODE :-  15\n",
            "EPISODE :-  16\n",
            "EPISODE :-  17\n",
            "EPISODE :-  18\n",
            "EPISODE :-  19\n",
            "EPISODE :-  20\n",
            "EPISODE :-  21\n",
            "EPISODE :-  22\n",
            "EPISODE :-  23\n",
            "EPISODE :-  24\n",
            "EPISODE :-  25\n",
            "EPISODE :-  26\n",
            "EPISODE :-  27\n",
            "EPISODE :-  28\n",
            "EPISODE :-  29\n",
            "EPISODE :-  30\n",
            "EPISODE :-  31\n",
            "EPISODE :-  32\n",
            "EPISODE :-  33\n",
            "EPISODE :-  34\n",
            "EPISODE :-  35\n",
            "EPISODE :-  36\n",
            "EPISODE :-  37\n",
            "EPISODE :-  38\n",
            "EPISODE :-  39\n",
            "EPISODE :-  40\n",
            "EPISODE :-  41\n",
            "EPISODE :-  42\n",
            "EPISODE :-  43\n",
            "EPISODE :-  44\n",
            "EPISODE :-  45\n",
            "EPISODE :-  46\n",
            "EPISODE :-  47\n",
            "EPISODE :-  48\n",
            "EPISODE :-  49\n",
            "EPISODE :-  50\n",
            "EPISODE :-  51\n",
            "EPISODE :-  52\n",
            "EPISODE :-  53\n",
            "EPISODE :-  54\n",
            "EPISODE :-  55\n",
            "EPISODE :-  56\n",
            "EPISODE :-  57\n",
            "EPISODE :-  58\n",
            "EPISODE :-  59\n",
            "EPISODE :-  60\n",
            "EPISODE :-  61\n",
            "EPISODE :-  62\n",
            "EPISODE :-  63\n",
            "EPISODE :-  64\n",
            "EPISODE :-  65\n",
            "EPISODE :-  66\n",
            "EPISODE :-  67\n",
            "EPISODE :-  68\n",
            "EPISODE :-  69\n",
            "EPISODE :-  70\n",
            "EPISODE :-  71\n",
            "EPISODE :-  72\n"
          ]
        },
        {
          "output_type": "error",
          "ename": "KeyboardInterrupt",
          "evalue": "ignored",
          "traceback": [
            "\u001b[0;31m---------------------------------------------------------------------------\u001b[0m",
            "\u001b[0;31mKeyboardInterrupt\u001b[0m                         Traceback (most recent call last)",
            "\u001b[0;32m<ipython-input-475-ba61ad34c7d1>\u001b[0m in \u001b[0;36m<module>\u001b[0;34m()\u001b[0m\n\u001b[1;32m     83\u001b[0m         \u001b[0msaved_data\u001b[0m\u001b[0;34m.\u001b[0m\u001b[0mappend\u001b[0m\u001b[0;34m(\u001b[0m\u001b[0;34m[\u001b[0m\u001b[0;34m'Episode'\u001b[0m \u001b[0;34m+\u001b[0m \u001b[0mstr\u001b[0m\u001b[0;34m(\u001b[0m\u001b[0m_ep\u001b[0m\u001b[0;34m)\u001b[0m\u001b[0;34m,\u001b[0m \u001b[0mr\u001b[0m\u001b[0;34m,\u001b[0m\u001b[0mstate\u001b[0m\u001b[0;34m,\u001b[0m\u001b[0mreward\u001b[0m\u001b[0;34m,\u001b[0m \u001b[0mcumulative_reward\u001b[0m\u001b[0;34m]\u001b[0m\u001b[0;34m)\u001b[0m\u001b[0;34m\u001b[0m\u001b[0;34m\u001b[0m\u001b[0m\n\u001b[1;32m     84\u001b[0m         \u001b[0;31m# check memory consumption and clear memory\u001b[0m\u001b[0;34m\u001b[0m\u001b[0;34m\u001b[0m\u001b[0;34m\u001b[0m\u001b[0m\n\u001b[0;32m---> 85\u001b[0;31m         \u001b[0mgc\u001b[0m\u001b[0;34m.\u001b[0m\u001b[0mcollect\u001b[0m\u001b[0;34m(\u001b[0m\u001b[0;34m)\u001b[0m\u001b[0;34m\u001b[0m\u001b[0;34m\u001b[0m\u001b[0m\n\u001b[0m\u001b[1;32m     86\u001b[0m         \u001b[0;31m# process = psutil.Process(os.getpid())\u001b[0m\u001b[0;34m\u001b[0m\u001b[0;34m\u001b[0m\u001b[0;34m\u001b[0m\u001b[0m\n\u001b[1;32m     87\u001b[0m         \u001b[0;31m# print(process.memory_info().rss)\u001b[0m\u001b[0;34m\u001b[0m\u001b[0;34m\u001b[0m\u001b[0;34m\u001b[0m\u001b[0m\n",
            "\u001b[0;31mKeyboardInterrupt\u001b[0m: "
          ]
        }
      ],
      "source": [
        "from __future__ import division\n",
        "import gym\n",
        "import numpy as np\n",
        "import torch\n",
        "from torch.autograd import Variable\n",
        "import os\n",
        "import psutil\n",
        "import gc\n",
        "\n",
        "saved_data = [['Joint 1 angle', 'Joint 2 angle', 'Joint 1 speed', 'Joint 2 speed',\n",
        "              'Joint 1 acceleration, Joint 2 acceleration', 'Dif to target 1',\n",
        "              'Dif to target 2', 'Dif to \"a\" target 1', 'Dif to \"a\" target 2',\n",
        "              'Jerk on joint 1', 'Jerk on joint 2', 'Reward']]\n",
        "            \n",
        "#import train\n",
        "#import buffer\n",
        "\n",
        "#env = gym.make('BipedalWalker-v3') - modified\n",
        "# env = gym.make('Pendulum-v0')\n",
        "\n",
        "MAX_EPISODES = 300\n",
        "MAX_STEPS = 1500\n",
        "MAX_BUFFER = 1000000\n",
        "MAX_TOTAL_REWARD = 95\n",
        "\n",
        "#################################################################################################\n",
        "#Alter here\n",
        "S_DIM = 12\n",
        "A_DIM = 2\n",
        "A_MAX = 0.02\n",
        "#################################################################################################\n",
        "\n",
        "\n",
        "print(' State Dimensions :- ', S_DIM)\n",
        "print(' Action Dimensions :- ', A_DIM)\n",
        "print(' Action Max :- ', A_MAX)\n",
        "\n",
        "ram = MemoryBuffer(MAX_BUFFER)\n",
        "#ram = buffer.MemoryBuffer(MAX_BUFFER)\n",
        "trainer = Trainer(S_DIM, A_DIM, A_MAX, ram)\n",
        "#trainer = train.Trainer(S_DIM, A_DIM, A_MAX, ram)\n",
        "\n",
        "for _ep in range(MAX_EPISODES):\n",
        "\n",
        "\t#observation = env.reset() - modificado\n",
        "\treset()\n",
        "\tprint('EPISODE :- ', _ep)\n",
        "\tcumulative_reward = 0\n",
        "\tfor r in range(MAX_STEPS):\n",
        "\t\t#env.render()\n",
        "\t\tstate = np.float32(observation)\n",
        "\n",
        "\t\t#action = trainer.get_exploration_action(state)\n",
        "\t\tif np.random.rand(1) > 0.01:\n",
        "\t\t# \t# validate every 5th episode\n",
        "\t\t\taction = trainer.get_exploitation_action(state)\n",
        "\t\telse:\n",
        "\t\t# \t# get action based on observation, use exploration policy here\n",
        "\t\t\taction = trainer.get_exploration_action(state)\n",
        "################################################################\n",
        "\n",
        "\t\t#new_observation, reward, done, info = env.step(action) - modified\n",
        "\t\tnew_observation, reward, done, info = take_action(action)\n",
        "\n",
        "\t\t# # dont update if this is validation\n",
        "\t\t# if _ep%50 == 0 or _ep>450:\n",
        "\t\t# \tcontinue\n",
        "\t\tcumulative_reward += reward\n",
        "\n",
        "\t\tif done:\n",
        "\t\t\tnew_state = None\n",
        "\t\telse:\n",
        "\t\t\tnew_state = np.float32(new_observation)\n",
        "\t\t\t# push this exp in ram\n",
        "\t\t\tram.add(state, action, reward, new_state)\n",
        "\n",
        "\t\tobservation = new_observation\n",
        "\n",
        "\t\t# perform optimization\n",
        "\t\ttrainer.optimize()\n",
        "\t\tif done:\n",
        "\t\t\tbreak\n",
        "\tsaved_data.append(['Episode' + str(_ep), r,state,reward, cumulative_reward])\n",
        "\t# check memory consumption and clear memory\n",
        "\tgc.collect()\n",
        "\t# process = psutil.Process(os.getpid())\n",
        "\t# print(process.memory_info().rss)\n",
        "\n",
        "\tif _ep%100 == 0:\n",
        "\t\ttrainer.save_models(_ep)\n",
        "\t\t#saved_data.append(df)\n",
        "\n",
        "print('Completed episodes')"
      ]
    },
    {
      "cell_type": "code",
      "execution_count": null,
      "metadata": {
        "colab": {
          "base_uri": "https://localhost:8080/"
        },
        "id": "_Gqe3sYHYswH",
        "outputId": "e9447da1-f334-49a3-bd29-0bf4b1c3748e"
      },
      "outputs": [
        {
          "output_type": "execute_result",
          "data": {
            "text/plain": [
              "['Episode0',\n",
              " 959,\n",
              " array([  0.70857346,   1.1005895 ,   0.09987263,   0.09983124,  -0.00007842,  -0.00010058,\n",
              "          0.07682472,  -0.05339194,  -0.09987263,  -0.09983124, -10.028351  ,   1.1625313 ],\n",
              "       dtype=float32),\n",
              " 149.60923835297737,\n",
              " -10763.507865962014]"
            ]
          },
          "metadata": {},
          "execution_count": 440
        }
      ],
      "source": [
        " saved_data[1]"
      ]
    },
    {
      "cell_type": "code",
      "source": [
        "import matplotlib.pyplot as plt\n",
        "plt.style.use('ggplot')\n",
        "reward_1 = [el[4] for el in saved_data[10:]]\n",
        "x=range(len(reward_1))\n",
        "plt.plot(x,reward_1,c='blue' )\n",
        "plt.xlabel('Episode')\n",
        "plt.ylabel('Reward')\n",
        "plt.title('RL Reward over Episodes')\n",
        "#plot.yticks(np.arange(0,300,50))\n",
        "plt.show"
      ],
      "metadata": {
        "colab": {
          "base_uri": "https://localhost:8080/",
          "height": 311
        },
        "id": "9smAJgC6dfTw",
        "outputId": "96021997-04e0-4f2b-b7ef-2364891ad264"
      },
      "execution_count": null,
      "outputs": [
        {
          "output_type": "execute_result",
          "data": {
            "text/plain": [
              "<function matplotlib.pyplot.show>"
            ]
          },
          "metadata": {},
          "execution_count": 476
        },
        {
          "output_type": "display_data",
          "data": {
            "image/png": "[encoded data removed]",
            "text/plain": [
              "<Figure size 432x288 with 1 Axes>"
            ]
          },
          "metadata": {}
        }
      ]
    },
    {
      "cell_type": "code",
      "source": [
        "import matplotlib.pyplot as plt\n",
        "plt.style.use('ggplot')\n",
        "x = range(len(saved_data)-2)\n",
        "q0 = [el[2][0] for el in saved_data[1:-1]]\n",
        "q1 = [el[2][1] for el in saved_data[1:-1]]\n",
        "plt.plot(x,q0,c='red',label = 'L0')\n",
        "plt.plot(x,q1,c='blue',label='L1')\n",
        "plt.title('Final Joint Angles per Episodes')\n",
        "plt.ylabel('Joint Angles')\n",
        "plt.xlabel('Episode')\n",
        "plt.legend()\n",
        "plt.show()"
      ],
      "metadata": {
        "colab": {
          "base_uri": "https://localhost:8080/",
          "height": 294
        },
        "id": "RamfL1cJ85Ip",
        "outputId": "6b59581a-9821-4369-c029-c0d9b9ebd26e"
      },
      "execution_count": null,
      "outputs": [
        {
          "output_type": "display_data",
          "data": {
            "image/png": "[encoded data removed]",
            "text/plain": [
              "<Figure size 432x288 with 1 Axes>"
            ]
          },
          "metadata": {}
        }
      ]
    },
    {
      "cell_type": "code",
      "source": [
        "import matplotlib.pyplot as plt\n",
        "plt.style.use('ggplot')\n",
        "steps_1 = [el[1] for el in saved_data[1:-1]]\n",
        "x=range(len(steps_1))\n",
        "plt.plot(x,steps_1,c='blue' )\n",
        "plt.xlabel('Episode')\n",
        "plt.ylabel('Steps')\n",
        "plt.title('Steps required per episode')\n",
        "#plot.yticks(np.arange(0,300,50))\n",
        "plt.show"
      ],
      "metadata": {
        "colab": {
          "base_uri": "https://localhost:8080/",
          "height": 311
        },
        "id": "1fxjk4WcCfaa",
        "outputId": "e3028b40-7dc0-4081-b04c-8c78129650e4"
      },
      "execution_count": null,
      "outputs": [
        {
          "output_type": "execute_result",
          "data": {
            "text/plain": [
              "<function matplotlib.pyplot.show>"
            ]
          },
          "metadata": {},
          "execution_count": 478
        },
        {
          "output_type": "display_data",
          "data": {
            "image/png": "[encoded data removed]",
            "text/plain": [
              "<Figure size 432x288 with 1 Axes>"
            ]
          },
          "metadata": {}
        }
      ]
    },
    {
      "cell_type": "code",
      "execution_count": null,
      "metadata": {
        "id": "YS3Nd1m7hu20",
        "colab": {
          "base_uri": "https://localhost:8080/",
          "height": 424
        },
        "outputId": "b009b6ce-21b9-4cd3-83b1-9e919c6e3b39"
      },
      "outputs": [
        {
          "output_type": "execute_result",
          "data": {
            "text/html": [
              "\n",
              "  <div id=\"df-226d3ea5-8a1f-42a6-8e65-c5b6060dd994\">\n",
              "    <div class=\"colab-df-container\">\n",
              "      <div>\n",
              "<style scoped>\n",
              "    .dataframe tbody tr th:only-of-type {\n",
              "        vertical-align: middle;\n",
              "    }\n",
              "\n",
              "    .dataframe tbody tr th {\n",
              "        vertical-align: top;\n",
              "    }\n",
              "\n",
              "    .dataframe thead th {\n",
              "        text-align: right;\n",
              "    }\n",
              "</style>\n",
              "<table border=\"1\" class=\"dataframe\">\n",
              "  <thead>\n",
              "    <tr style=\"text-align: right;\">\n",
              "      <th></th>\n",
              "      <th>0</th>\n",
              "      <th>1</th>\n",
              "      <th>2</th>\n",
              "      <th>3</th>\n",
              "    </tr>\n",
              "  </thead>\n",
              "  <tbody>\n",
              "    <tr>\n",
              "      <th>0</th>\n",
              "      <td>[1.59, -0.53, 0.0, 0.0, 0.0, 0.0, -1.1973009, ...</td>\n",
              "      <td>[-0.0021586113, -0.00079402357]</td>\n",
              "      <td>-3.209939</td>\n",
              "      <td>[0.007841389, 0.0092059765, 0.07841389, 0.0920...</td>\n",
              "    </tr>\n",
              "    <tr>\n",
              "      <th>1</th>\n",
              "      <td>[0.007841389, 0.0092059765, 0.07841389, 0.0920...</td>\n",
              "      <td>[-0.002131098, -0.00077277614]</td>\n",
              "      <td>-3.164615</td>\n",
              "      <td>[0.01571029, 0.0184332, 0.078689024, 0.0922722...</td>\n",
              "    </tr>\n",
              "    <tr>\n",
              "      <th>2</th>\n",
              "      <td>[0.01571029, 0.0184332, 0.078689024, 0.0922722...</td>\n",
              "      <td>[-0.0021212297, -0.0007740895]</td>\n",
              "      <td>-3.096335</td>\n",
              "      <td>[0.023589062, 0.02765911, 0.07878771, 0.092259...</td>\n",
              "    </tr>\n",
              "    <tr>\n",
              "      <th>3</th>\n",
              "      <td>[0.023589062, 0.02765911, 0.07878771, 0.092259...</td>\n",
              "      <td>[-0.0021207572, -0.0007736697]</td>\n",
              "      <td>-3.027852</td>\n",
              "      <td>[0.031468302, 0.03688544, 0.07879243, 0.092263...</td>\n",
              "    </tr>\n",
              "    <tr>\n",
              "      <th>4</th>\n",
              "      <td>[0.031468302, 0.03688544, 0.07879243, 0.092263...</td>\n",
              "      <td>[-0.0021201575, -0.00077311334]</td>\n",
              "      <td>-2.959323</td>\n",
              "      <td>[0.039348148, 0.04611233, 0.07879843, 0.092268...</td>\n",
              "    </tr>\n",
              "    <tr>\n",
              "      <th>...</th>\n",
              "      <td>...</td>\n",
              "      <td>...</td>\n",
              "      <td>...</td>\n",
              "      <td>...</td>\n",
              "    </tr>\n",
              "    <tr>\n",
              "      <th>1038</th>\n",
              "      <td>[0.3295659, 0.32957578, 0.29976562, 0.29976568...</td>\n",
              "      <td>[0.019973379, 0.019973442]</td>\n",
              "      <td>-3.183974</td>\n",
              "      <td>[0.029973378, 0.029973442, 0.2997338, 0.299734...</td>\n",
              "    </tr>\n",
              "    <tr>\n",
              "      <th>1039</th>\n",
              "      <td>[0.029973378, 0.029973442, 0.2997338, 0.299734...</td>\n",
              "      <td>[0.019768508, 0.019777881]</td>\n",
              "      <td>-3.247599</td>\n",
              "      <td>[0.05974189, 0.059751324, 0.2976851, 0.2977788...</td>\n",
              "    </tr>\n",
              "    <tr>\n",
              "      <th>1040</th>\n",
              "      <td>[0.05974189, 0.059751324, 0.2976851, 0.2977788...</td>\n",
              "      <td>[0.019988308, 0.01998817]</td>\n",
              "      <td>-3.004863</td>\n",
              "      <td>[0.089730196, 0.089739494, 0.29988307, 0.29988...</td>\n",
              "    </tr>\n",
              "    <tr>\n",
              "      <th>1041</th>\n",
              "      <td>[0.089730196, 0.089739494, 0.29988307, 0.29988...</td>\n",
              "      <td>[0.01998754, 0.019987408]</td>\n",
              "      <td>-2.763194</td>\n",
              "      <td>[0.11971773, 0.119726904, 0.2998754, 0.2998740...</td>\n",
              "    </tr>\n",
              "    <tr>\n",
              "      <th>1042</th>\n",
              "      <td>[0.11971773, 0.119726904, 0.2998754, 0.2998740...</td>\n",
              "      <td>[0.019987365, 0.019987235]</td>\n",
              "      <td>-2.518172</td>\n",
              "      <td>[0.1497051, 0.14971414, 0.29987365, 0.29987234...</td>\n",
              "    </tr>\n",
              "  </tbody>\n",
              "</table>\n",
              "<p>1043 rows × 4 columns</p>\n",
              "</div>\n",
              "      <button class=\"colab-df-convert\" onclick=\"convertToInteractive('df-226d3ea5-8a1f-42a6-8e65-c5b6060dd994')\"\n",
              "              title=\"Convert this dataframe to an interactive table.\"\n",
              "              style=\"display:none;\">\n",
              "        \n",
              "  <svg xmlns=\"http://www.w3.org/2000/svg\" height=\"24px\"viewBox=\"0 0 24 24\"\n",
              "       width=\"24px\">\n",
              "    <path d=\"M0 0h24v24H0V0z\" fill=\"none\"/>\n",
              "    <path d=\"M18.56 5.44l.94 2.06.94-2.06 2.06-.94-2.06-.94-.94-2.06-.94 2.06-2.06.94zm-11 1L8.5 8.5l.94-2.06 2.06-.94-2.06-.94L8.5 2.5l-.94 2.06-2.06.94zm10 10l.94 2.06.94-2.06 2.06-.94-2.06-.94-.94-2.06-.94 2.06-2.06.94z\"/><path d=\"M17.41 7.96l-1.37-1.37c-.4-.4-.92-.59-1.43-.59-.52 0-1.04.2-1.43.59L10.3 9.45l-7.72 7.72c-.78.78-.78 2.05 0 2.83L4 21.41c.39.39.9.59 1.41.59.51 0 1.02-.2 1.41-.59l7.78-7.78 2.81-2.81c.8-.78.8-2.07 0-2.86zM5.41 20L4 18.59l7.72-7.72 1.47 1.35L5.41 20z\"/>\n",
              "  </svg>\n",
              "      </button>\n",
              "      \n",
              "  <style>\n",
              "    .colab-df-container {\n",
              "      display:flex;\n",
              "      flex-wrap:wrap;\n",
              "      gap: 12px;\n",
              "    }\n",
              "\n",
              "    .colab-df-convert {\n",
              "      background-color: #E8F0FE;\n",
              "      border: none;\n",
              "      border-radius: 50%;\n",
              "      cursor: pointer;\n",
              "      display: none;\n",
              "      fill: #1967D2;\n",
              "      height: 32px;\n",
              "      padding: 0 0 0 0;\n",
              "      width: 32px;\n",
              "    }\n",
              "\n",
              "    .colab-df-convert:hover {\n",
              "      background-color: #E2EBFA;\n",
              "      box-shadow: 0px 1px 2px rgba(60, 64, 67, 0.3), 0px 1px 3px 1px rgba(60, 64, 67, 0.15);\n",
              "      fill: #174EA6;\n",
              "    }\n",
              "\n",
              "    [theme=dark] .colab-df-convert {\n",
              "      background-color: #3B4455;\n",
              "      fill: #D2E3FC;\n",
              "    }\n",
              "\n",
              "    [theme=dark] .colab-df-convert:hover {\n",
              "      background-color: #434B5C;\n",
              "      box-shadow: 0px 1px 3px 1px rgba(0, 0, 0, 0.15);\n",
              "      filter: drop-shadow(0px 1px 2px rgba(0, 0, 0, 0.3));\n",
              "      fill: #FFFFFF;\n",
              "    }\n",
              "  </style>\n",
              "\n",
              "      <script>\n",
              "        const buttonEl =\n",
              "          document.querySelector('#df-226d3ea5-8a1f-42a6-8e65-c5b6060dd994 button.colab-df-convert');\n",
              "        buttonEl.style.display =\n",
              "          google.colab.kernel.accessAllowed ? 'block' : 'none';\n",
              "\n",
              "        async function convertToInteractive(key) {\n",
              "          const element = document.querySelector('#df-226d3ea5-8a1f-42a6-8e65-c5b6060dd994');\n",
              "          const dataTable =\n",
              "            await google.colab.kernel.invokeFunction('convertToInteractive',\n",
              "                                                     [key], {});\n",
              "          if (!dataTable) return;\n",
              "\n",
              "          const docLinkHtml = 'Like what you see? Visit the ' +\n",
              "            '<a target=\"_blank\" href=https://colab.research.google.com/notebooks/data_table.ipynb>data table notebook</a>'\n",
              "            + ' to learn more about interactive tables.';\n",
              "          element.innerHTML = '';\n",
              "          dataTable['output_type'] = 'display_data';\n",
              "          await google.colab.output.renderOutput(dataTable, element);\n",
              "          const docLink = document.createElement('div');\n",
              "          docLink.innerHTML = docLinkHtml;\n",
              "          element.appendChild(docLink);\n",
              "        }\n",
              "      </script>\n",
              "    </div>\n",
              "  </div>\n",
              "  "
            ],
            "text/plain": [
              "                                                      0  ...                                                  3\n",
              "0     [1.59, -0.53, 0.0, 0.0, 0.0, 0.0, -1.1973009, ...  ...  [0.007841389, 0.0092059765, 0.07841389, 0.0920...\n",
              "1     [0.007841389, 0.0092059765, 0.07841389, 0.0920...  ...  [0.01571029, 0.0184332, 0.078689024, 0.0922722...\n",
              "2     [0.01571029, 0.0184332, 0.078689024, 0.0922722...  ...  [0.023589062, 0.02765911, 0.07878771, 0.092259...\n",
              "3     [0.023589062, 0.02765911, 0.07878771, 0.092259...  ...  [0.031468302, 0.03688544, 0.07879243, 0.092263...\n",
              "4     [0.031468302, 0.03688544, 0.07879243, 0.092263...  ...  [0.039348148, 0.04611233, 0.07879843, 0.092268...\n",
              "...                                                 ...  ...                                                ...\n",
              "1038  [0.3295659, 0.32957578, 0.29976562, 0.29976568...  ...  [0.029973378, 0.029973442, 0.2997338, 0.299734...\n",
              "1039  [0.029973378, 0.029973442, 0.2997338, 0.299734...  ...  [0.05974189, 0.059751324, 0.2976851, 0.2977788...\n",
              "1040  [0.05974189, 0.059751324, 0.2976851, 0.2977788...  ...  [0.089730196, 0.089739494, 0.29988307, 0.29988...\n",
              "1041  [0.089730196, 0.089739494, 0.29988307, 0.29988...  ...  [0.11971773, 0.119726904, 0.2998754, 0.2998740...\n",
              "1042  [0.11971773, 0.119726904, 0.2998754, 0.2998740...  ...  [0.1497051, 0.14971414, 0.29987365, 0.29987234...\n",
              "\n",
              "[1043 rows x 4 columns]"
            ]
          },
          "metadata": {},
          "execution_count": 479
        }
      ],
      "source": [
        "import pandas as pd\n",
        "df = pd.DataFrame(ram.buffer)\n",
        "df.head(-5)"
      ]
    },
    {
      "cell_type": "code",
      "source": [
        "ram.buffer[0]"
      ],
      "metadata": {
        "colab": {
          "base_uri": "https://localhost:8080/"
        },
        "id": "xpwTHNg3yyqZ",
        "outputId": "f4292c01-4910-49ec-f70d-84aafe5b0abc"
      },
      "execution_count": null,
      "outputs": [
        {
          "output_type": "execute_result",
          "data": {
            "text/plain": [
              "(array([ 1.59      , -0.53      ,  0.        ,  0.        ,  0.        ,  0.        , -1.1973009 ,\n",
              "         0.92269903,  0.        ,  0.        , -2.1153533 , -2.3979175 ], dtype=float32),\n",
              " array([-0.00215861, -0.00079402], dtype=float32),\n",
              " -3.2099392379104685,\n",
              " array([  0.00784139,   0.00920598,   0.07841389,   0.09205976,   0.78413886,   0.9205977 ,\n",
              "          0.38485768,   0.3834931 ,  -0.07841389,  -0.09205976, -16.968197  ,  -4.086022  ],\n",
              "       dtype=float32))"
            ]
          },
          "metadata": {},
          "execution_count": 555
        }
      ]
    },
    {
      "cell_type": "code",
      "execution_count": null,
      "metadata": {
        "id": "56WAkNUqjUEg",
        "colab": {
          "base_uri": "https://localhost:8080/"
        },
        "outputId": "6bdf2d8f-7fab-4980-d9b7-850ceb49fb90"
      },
      "outputs": [
        {
          "output_type": "execute_result",
          "data": {
            "text/plain": [
              "(array([-2.1153533, -2.3979175], dtype=float32),\n",
              " array([0.00784139, 0.00920598], dtype=float32),\n",
              " array([ 1.59, -0.53], dtype=float32))"
            ]
          },
          "metadata": {},
          "execution_count": 556
        }
      ],
      "source": [
        "j_a = [el[1] + 0.01 for el in ram.buffer]\n",
        "states_z = [el[0] for el in ram.buffer]\n",
        "tau_links = [el[10:12] for el in states]\n",
        "q1q2 = [el[0:2] for el in states]\n",
        "tau_links[0],j_a[0],q1q2[0]"
      ]
    },
    {
      "cell_type": "code",
      "source": [
        "#x = range(len(q1q2)-2)\n",
        "rnt = q1q2[-19:-9]\n",
        "x=range(len(rnt))\n",
        "q0 = [el[0] for el in rnt]\n",
        "q1 = [el[1] for el in rnt]\n",
        "plt.plot(x,q0,c='red',label = 'q0')\n",
        "plt.plot(x,q1,c='blue',label='q1')\n",
        "plt.title('Joint Angles per Time Step - Final Episode')\n",
        "plt.ylabel('Joint Angles')\n",
        "plt.xlabel('Time Steps (0.1s)')\n",
        "plt.legend()\n",
        "plt.show()"
      ],
      "metadata": {
        "colab": {
          "base_uri": "https://localhost:8080/",
          "height": 294
        },
        "id": "nr1aXAn5zGnW",
        "outputId": "a14f5974-2cde-41cd-9263-44c2fccbe2d3"
      },
      "execution_count": null,
      "outputs": [
        {
          "output_type": "display_data",
          "data": {
            "image/png": "[encoded data removed]",
            "text/plain": [
              "<Figure size 432x288 with 1 Axes>"
            ]
          },
          "metadata": {}
        }
      ]
    },
    {
      "cell_type": "code",
      "source": [
        "rnt = j_a[-19:-9]\n",
        "x=range(len(rnt))\n",
        "q0 = [el[0]/0.1 for el in rnt]\n",
        "q1 = [el[1]/0.1 for el in rnt]\n",
        "plt.plot(x,q0,c='red',label = 'q0')\n",
        "plt.plot(x,q1,c='blue',label='q1')\n",
        "plt.title('Joint Velocities per Time Step - Final Episode')\n",
        "plt.ylabel('Joint Velocities')\n",
        "plt.xlabel('Time Steps (0.1s)')\n",
        "plt.legend()\n",
        "plt.show()"
      ],
      "metadata": {
        "colab": {
          "base_uri": "https://localhost:8080/",
          "height": 294
        },
        "id": "dVM86ojI4eWu",
        "outputId": "2b1b8b98-0585-4fdd-b261-37decabdd36c"
      },
      "execution_count": null,
      "outputs": [
        {
          "output_type": "display_data",
          "data": {
            "image/png": "[encoded data removed]",
            "text/plain": [
              "<Figure size 432x288 with 1 Axes>"
            ]
          },
          "metadata": {}
        }
      ]
    },
    {
      "cell_type": "code",
      "source": [
        "}energy_z = [abs(tau_links[i][0]*j_a[i][0]+tau_links[i][1]*j_a[i][1]) for i in range(len(tau_links))]\n",
        "energy_z[0:5],sum(energy_z)"
      ],
      "metadata": {
        "colab": {
          "base_uri": "https://localhost:8080/",
          "height": 130
        },
        "id": "WErSt3jfukkr",
        "outputId": "94bdc237-2904-4d35-abf6-6afb86366e85"
      },
      "execution_count": null,
      "outputs": [
        {
          "output_type": "error",
          "ename": "SyntaxError",
          "evalue": "ignored",
          "traceback": [
            "\u001b[0;36m  File \u001b[0;32m\"<ipython-input-612-81443b186aa3>\"\u001b[0;36m, line \u001b[0;32m1\u001b[0m\n\u001b[0;31m    }energy_z = [abs(tau_links[i][0]*j_a[i][0]+tau_links[i][1]*j_a[i][1]) for i in range(len(tau_links))]\u001b[0m\n\u001b[0m    ^\u001b[0m\n\u001b[0;31mSyntaxError\u001b[0m\u001b[0;31m:\u001b[0m invalid syntax\n"
          ]
        }
      ]
    },
    {
      "cell_type": "code",
      "source": [
        "rnt = energy_z[-19:-9]\n",
        "x=range(len(rnt))\n",
        "q0 = [el for el in rnt]\n",
        "#q1 = [el[1] for el in rnt]\n",
        "plt.plot(x,q0,c='red',label = 'q0')\n",
        "#plt.plot(x,q1,c='blue',label='q1')\n",
        "plt.title('Energy Consumption per Time Step - Episode 1')\n",
        "plt.ylabel('Energy Consumption per Time Step')\n",
        "plt.xlabel('Time Steps (0.1s)')\n",
        "#plt.legend()\n",
        "plt.show(), sum(energy_z[-19:-9])"
      ],
      "metadata": {
        "colab": {
          "base_uri": "https://localhost:8080/",
          "height": 311
        },
        "id": "A_jyXyl-x7qs",
        "outputId": "90992849-b4d3-4742-c567-ed528ed9449a"
      },
      "execution_count": null,
      "outputs": [
        {
          "output_type": "display_data",
          "data": {
            "image/png": "[encoded data removed]",
            "text/plain": [
              "<Figure size 432x288 with 1 Axes>"
            ]
          },
          "metadata": {}
        },
        {
          "output_type": "execute_result",
          "data": {
            "text/plain": [
              "(None, 6.683620929718018)"
            ]
          },
          "metadata": {},
          "execution_count": 610
        }
      ]
    },
    {
      "cell_type": "code",
      "source": [
        "all = [el[0] for el in ram.buffer]\n",
        "all[0]"
      ],
      "metadata": {
        "id": "7LomQAxIhYN7",
        "colab": {
          "base_uri": "https://localhost:8080/"
        },
        "outputId": "840b49ed-bdf4-43e1-eccb-b349bb29535c"
      },
      "execution_count": null,
      "outputs": [
        {
          "output_type": "execute_result",
          "data": {
            "text/plain": [
              "array([ 1.59      , -0.53      ,  0.        ,  0.        ,  0.        ,  0.        , -1.1973009 ,\n",
              "        0.92269903,  0.        ,  0.        , -2.1153533 , -2.3979175 ], dtype=float32)"
            ]
          },
          "metadata": {},
          "execution_count": 529
        }
      ]
    }
  ],
  "metadata": {
    "accelerator": "GPU",
    "colab": {
      "provenance": [],
      "authorship_tag": "ABX9TyNVrv4o1vlLWGyKfE+EFVPf",
      "include_colab_link": true
    },
    "kernelspec": {
      "display_name": "Python 3",
      "name": "python3"
    },
    "language_info": {
      "name": "python"
    }
  },
  "nbformat": 4,
  "nbformat_minor": 0
}
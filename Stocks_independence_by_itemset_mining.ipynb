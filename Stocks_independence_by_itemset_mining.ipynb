{
  "nbformat": 4,
  "nbformat_minor": 0,
  "metadata": {
    "colab": {
      "name": "Stocks independence by itemset mining",
      "provenance": [],
      "authorship_tag": "ABX9TyP2DBbpWoCsLmfufQ7SyTfj",
      "include_colab_link": true
    },
    "kernelspec": {
      "name": "python3",
      "display_name": "Python 3"
    },
    "language_info": {
      "name": "python"
    }
  },
  "cells": [
    {
      "cell_type": "markdown",
      "metadata": {
        "id": "view-in-github",
        "colab_type": "text"
      },
      "source": [
        "<a href=\"https://colab.research.google.com/github/rodrigossilveira/DS_projects/blob/main/Stocks_independence_by_itemset_mining.ipynb\" target=\"_parent\"><img src=\"https://colab.research.google.com/assets/colab-badge.svg\" alt=\"Open In Colab\"/></a>"
      ]
    },
    {
      "cell_type": "markdown",
      "metadata": {
        "id": "CIjruTim3qvK"
      },
      "source": [
        "## Stock independence by itemset mining\n",
        " When investing a very important rule is  \"Don't put all your eggs in the same basket\", meaning one should diversify it's investments so the performance of some can offset the negative performance of others and protect the value of the portfolio. But diversification is not a trivial taks as many stocks tend to move together. Here this problem will be tackled trying to use itemset mining as a way to discovering wich stocks are connected/dependent. "
      ]
    },
    {
      "cell_type": "code",
      "metadata": {
        "colab": {
          "base_uri": "https://localhost:8080/",
          "height": 145
        },
        "id": "Zg5QuVi83oma",
        "outputId": "fad2875b-a0da-4ccd-c3ec-60d9d83a82da"
      },
      "source": [
        "import pandas as pd\n",
        "display(\"Ready!\")"
      ],
      "execution_count": null,
      "outputs": [
        {
          "output_type": "display_data",
          "data": {
            "application/vnd.google.colaboratory.intrinsic+json": {
              "type": "string"
            },
            "text/plain": [
              "'Ready!'"
            ]
          },
          "metadata": {}
        }
      ]
    },
    {
      "cell_type": "code",
      "metadata": {
        "id": "Wm7NXKSz3xU2"
      },
      "source": [
        "#The \n",
        "starting_points = [1,3,11,13,25,28,40,50,53,57,70,83,96,109,122,135,148,153,171,189,202,203,211,218,231,243,245]\n",
        "width = []\n",
        "for i in range(len(starting_points)-1):\n",
        "  width.append(starting_points[i+1] - starting_points[i])\n",
        "stocks_results = pd.read_fwf('/content/drive/MyDrive/Colab_Data/COTAHIST_A2020.TXT',widths=width)"
      ],
      "execution_count": 24,
      "outputs": []
    },
    {
      "cell_type": "code",
      "metadata": {
        "id": "eDJfAEWY867S"
      },
      "source": [
        ""
      ],
      "execution_count": 23,
      "outputs": []
    },
    {
      "cell_type": "code",
      "metadata": {
        "id": "Y-7Ge2p643_q"
      },
      "source": [
        ""
      ],
      "execution_count": null,
      "outputs": []
    }
  ]
}
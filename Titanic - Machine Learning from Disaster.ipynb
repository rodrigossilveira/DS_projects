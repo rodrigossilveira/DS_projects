{
 "cells": [
  {
   "cell_type": "markdown",
   "metadata": {},
   "source": [
    "## Titanic: Machine Learning from the Disaster\n",
    "O desafio do Titanic é uma das competições de data science mais populares do site [kaggle.com](www.kaggle.com), famoso por esse tipo de desafio. Toda essa popularidade tornou ele praticamente um **_Hello, world_** no mundo de data science. Essa é minha tentativa nesse desafio.   "
   ]
  },
  {
   "cell_type": "markdown",
   "metadata": {},
   "source": [
    "O naufrágio do Titanic é um dos acidentes marítimos mais famosos da história. Considerado *o navio mais moderno do mundo à sua época*, foi placo de uma combinação de imperícia, imprudência e negligência que culminou com seu naufrágio após colidir com um iceberg em 15 de abril de 1912. Dos 2224 passageiros 1502 morreram."
   ]
  },
  {
   "cell_type": "markdown",
   "metadata": {},
   "source": [
    "<center><img src=\"Images/dewfewddng.png\" width=\"600\" ><center>\n"
   ]
  },
  {
   "cell_type": "markdown",
   "metadata": {},
   "source": [
    "Uma das principais causas de tantas mortes foi a falta de botes salva vidas suficientes para a tripulação e passageiros. Agora, mais de 100 anos após o acidente podemos investigá-lo com dados **reais**.\n",
    "\n",
    "Será que os botes foram igualmente distribuídos entre passageiros de 1ª, 2ª e 3ª classe? Será que o cavalheirismo se manteve na hora do desespero e mulheres e crianças realmente foram primeiro? Qual seria sua chance de sobreviver se estivesse no no Titanic no momento do naufrágio?"
   ]
  },
  {
   "cell_type": "markdown",
   "metadata": {},
   "source": [
    "#### O objetivo final do desafio é usar os dados reais do naufrágio para determinar a chance de sobrevivência dos passageiros do Titanic"
   ]
  },
  {
   "cell_type": "markdown",
   "metadata": {},
   "source": [
    "### Sumário\n",
    "[Análise Exploratória](#Análise-Exploratória)\n",
    "<br>[Preparação dos Dados](#Preparação-dos-Dados)\n",
    "<br>[Construção do Modelo](#Construção-do-Modelo)\n",
    "    "
   ]
  },
  {
   "cell_type": "markdown",
   "metadata": {},
   "source": [
    "### Análise Exploratória <a name=\"Análise-Exploratória\"></a>\n",
    "#### Dicionário de Dados\n",
    "**PassengerId:** Número de identificação do passageiro\n",
    "- **Survived:** Informa se o passageiro sobreviveu ao desastre\n",
    "    - 0 = Não\n",
    "    - 1 = Sim\n",
    "- **Pclass:** Classe do bilhete\n",
    "    - 1 = 1ª Classe\n",
    "    - 2 = 2ª Classe\n",
    "    - 3 = 3ª Classe\n",
    "- **Name:** Nome do passageiro\n",
    "- **Sex** Sexo do passageiro\n",
    "- **Age:** Idade do passageiro\n",
    "- **SibSp:** Quantidade de cônjuges e irmãos a bordo\n",
    "- **Parch:** Quantidade de pais e filhos a bordo\n",
    "- **Ticket:** Número de identificação da passagem\n",
    "- **Fare:** Preço pago pela Passagem\n",
    "- **Cabin:** Identificação da cabine do passageiro\n",
    "- **Embarked:** Porto no qual o passageiro embarcou\n",
    "    - C = Cherbourg\n",
    "    - Q = Queenstown\n",
    "    - S = Southampton"
   ]
  },
  {
   "cell_type": "code",
   "execution_count": 1,
   "metadata": {},
   "outputs": [],
   "source": [
    "#Importando os pacotes necessários\n",
    "import pandas as pd\n",
    "import numpy as np\n",
    "import matplotlib as mpl\n",
    "import matplotlib.pyplot as plt\n",
    "plt.style.use('ggplot')\n",
    "import seaborn as sns"
   ]
  },
  {
   "cell_type": "code",
   "execution_count": 29,
   "metadata": {},
   "outputs": [
    {
     "name": "stdout",
     "output_type": "stream",
     "text": [
      "Files ready!\n"
     ]
    },
    {
     "data": {
      "text/plain": [
       "(891, 12)"
      ]
     },
     "execution_count": 29,
     "metadata": {},
     "output_type": "execute_result"
    }
   ],
   "source": [
    "#Carregando nossos sets de treinamento e de teste\n",
    "train_df = pd.read_csv('data/titanic_train.csv')\n",
    "test_df = pd.read_csv('data/titanic_test.csv')\n",
    "#Avisando quando acabar\n",
    "print(\"Files ready!\")\n",
    "#Vamos ver o formato dos dados\n",
    "train_df.shape"
   ]
  },
  {
   "cell_type": "markdown",
   "metadata": {},
   "source": [
    "Podemos perceber que temos dados de 891 passageiros no nosso conjunto de teste e 12 variáveis para explorar. Vamos dar uma olhada em quais são essas variáveis e que informações temos sobre elas:"
   ]
  },
  {
   "cell_type": "code",
   "execution_count": 3,
   "metadata": {},
   "outputs": [
    {
     "data": {
      "text/html": [
       "<div>\n",
       "<style scoped>\n",
       "    .dataframe tbody tr th:only-of-type {\n",
       "        vertical-align: middle;\n",
       "    }\n",
       "\n",
       "    .dataframe tbody tr th {\n",
       "        vertical-align: top;\n",
       "    }\n",
       "\n",
       "    .dataframe thead th {\n",
       "        text-align: right;\n",
       "    }\n",
       "</style>\n",
       "<table border=\"1\" class=\"dataframe\">\n",
       "  <thead>\n",
       "    <tr style=\"text-align: right;\">\n",
       "      <th></th>\n",
       "      <th>PassengerId</th>\n",
       "      <th>Survived</th>\n",
       "      <th>Pclass</th>\n",
       "      <th>Name</th>\n",
       "      <th>Sex</th>\n",
       "      <th>Age</th>\n",
       "      <th>SibSp</th>\n",
       "      <th>Parch</th>\n",
       "      <th>Ticket</th>\n",
       "      <th>Fare</th>\n",
       "      <th>Cabin</th>\n",
       "      <th>Embarked</th>\n",
       "    </tr>\n",
       "  </thead>\n",
       "  <tbody>\n",
       "    <tr>\n",
       "      <th>0</th>\n",
       "      <td>1</td>\n",
       "      <td>0</td>\n",
       "      <td>3</td>\n",
       "      <td>Braund, Mr. Owen Harris</td>\n",
       "      <td>male</td>\n",
       "      <td>22.0</td>\n",
       "      <td>1</td>\n",
       "      <td>0</td>\n",
       "      <td>A/5 21171</td>\n",
       "      <td>7.2500</td>\n",
       "      <td>NaN</td>\n",
       "      <td>S</td>\n",
       "    </tr>\n",
       "    <tr>\n",
       "      <th>1</th>\n",
       "      <td>2</td>\n",
       "      <td>1</td>\n",
       "      <td>1</td>\n",
       "      <td>Cumings, Mrs. John Bradley (Florence Briggs Th...</td>\n",
       "      <td>female</td>\n",
       "      <td>38.0</td>\n",
       "      <td>1</td>\n",
       "      <td>0</td>\n",
       "      <td>PC 17599</td>\n",
       "      <td>71.2833</td>\n",
       "      <td>C85</td>\n",
       "      <td>C</td>\n",
       "    </tr>\n",
       "    <tr>\n",
       "      <th>2</th>\n",
       "      <td>3</td>\n",
       "      <td>1</td>\n",
       "      <td>3</td>\n",
       "      <td>Heikkinen, Miss. Laina</td>\n",
       "      <td>female</td>\n",
       "      <td>26.0</td>\n",
       "      <td>0</td>\n",
       "      <td>0</td>\n",
       "      <td>STON/O2. 3101282</td>\n",
       "      <td>7.9250</td>\n",
       "      <td>NaN</td>\n",
       "      <td>S</td>\n",
       "    </tr>\n",
       "    <tr>\n",
       "      <th>3</th>\n",
       "      <td>4</td>\n",
       "      <td>1</td>\n",
       "      <td>1</td>\n",
       "      <td>Futrelle, Mrs. Jacques Heath (Lily May Peel)</td>\n",
       "      <td>female</td>\n",
       "      <td>35.0</td>\n",
       "      <td>1</td>\n",
       "      <td>0</td>\n",
       "      <td>113803</td>\n",
       "      <td>53.1000</td>\n",
       "      <td>C123</td>\n",
       "      <td>S</td>\n",
       "    </tr>\n",
       "    <tr>\n",
       "      <th>4</th>\n",
       "      <td>5</td>\n",
       "      <td>0</td>\n",
       "      <td>3</td>\n",
       "      <td>Allen, Mr. William Henry</td>\n",
       "      <td>male</td>\n",
       "      <td>35.0</td>\n",
       "      <td>0</td>\n",
       "      <td>0</td>\n",
       "      <td>373450</td>\n",
       "      <td>8.0500</td>\n",
       "      <td>NaN</td>\n",
       "      <td>S</td>\n",
       "    </tr>\n",
       "  </tbody>\n",
       "</table>\n",
       "</div>"
      ],
      "text/plain": [
       "   PassengerId  Survived  Pclass  \\\n",
       "0            1         0       3   \n",
       "1            2         1       1   \n",
       "2            3         1       3   \n",
       "3            4         1       1   \n",
       "4            5         0       3   \n",
       "\n",
       "                                                Name     Sex   Age  SibSp  \\\n",
       "0                            Braund, Mr. Owen Harris    male  22.0      1   \n",
       "1  Cumings, Mrs. John Bradley (Florence Briggs Th...  female  38.0      1   \n",
       "2                             Heikkinen, Miss. Laina  female  26.0      0   \n",
       "3       Futrelle, Mrs. Jacques Heath (Lily May Peel)  female  35.0      1   \n",
       "4                           Allen, Mr. William Henry    male  35.0      0   \n",
       "\n",
       "   Parch            Ticket     Fare Cabin Embarked  \n",
       "0      0         A/5 21171   7.2500   NaN        S  \n",
       "1      0          PC 17599  71.2833   C85        C  \n",
       "2      0  STON/O2. 3101282   7.9250   NaN        S  \n",
       "3      0            113803  53.1000  C123        S  \n",
       "4      0            373450   8.0500   NaN        S  "
      ]
     },
     "metadata": {},
     "output_type": "display_data"
    }
   ],
   "source": [
    "#Vamos dar uma olhada na situação dos dados brutos\n",
    "display(train_df.head())"
   ]
  },
  {
   "cell_type": "code",
   "execution_count": 4,
   "metadata": {},
   "outputs": [
    {
     "data": {
      "text/plain": [
       "PassengerId    0.000000\n",
       "Survived       0.000000\n",
       "Pclass         0.000000\n",
       "Name           0.000000\n",
       "Sex            0.000000\n",
       "Age            0.198653\n",
       "SibSp          0.000000\n",
       "Parch          0.000000\n",
       "Ticket         0.000000\n",
       "Fare           0.000000\n",
       "Cabin          0.771044\n",
       "Embarked       0.002245\n",
       "dtype: float64"
      ]
     },
     "execution_count": 4,
     "metadata": {},
     "output_type": "execute_result"
    }
   ],
   "source": [
    "#Descobrindo o número de informações faltantes:\n",
    "train_df.isnull().sum()/train_df.shape[0]"
   ]
  },
  {
   "cell_type": "code",
   "execution_count": 5,
   "metadata": {},
   "outputs": [
    {
     "data": {
      "text/html": [
       "<div>\n",
       "<style scoped>\n",
       "    .dataframe tbody tr th:only-of-type {\n",
       "        vertical-align: middle;\n",
       "    }\n",
       "\n",
       "    .dataframe tbody tr th {\n",
       "        vertical-align: top;\n",
       "    }\n",
       "\n",
       "    .dataframe thead th {\n",
       "        text-align: right;\n",
       "    }\n",
       "</style>\n",
       "<table border=\"1\" class=\"dataframe\">\n",
       "  <thead>\n",
       "    <tr style=\"text-align: right;\">\n",
       "      <th></th>\n",
       "      <th>PassengerId</th>\n",
       "      <th>Survived</th>\n",
       "      <th>Pclass</th>\n",
       "      <th>Age</th>\n",
       "      <th>SibSp</th>\n",
       "      <th>Parch</th>\n",
       "      <th>Fare</th>\n",
       "    </tr>\n",
       "  </thead>\n",
       "  <tbody>\n",
       "    <tr>\n",
       "      <th>count</th>\n",
       "      <td>891.000000</td>\n",
       "      <td>891.000000</td>\n",
       "      <td>891.000000</td>\n",
       "      <td>714.000000</td>\n",
       "      <td>891.000000</td>\n",
       "      <td>891.000000</td>\n",
       "      <td>891.000000</td>\n",
       "    </tr>\n",
       "    <tr>\n",
       "      <th>mean</th>\n",
       "      <td>446.000000</td>\n",
       "      <td>0.383838</td>\n",
       "      <td>2.308642</td>\n",
       "      <td>29.699118</td>\n",
       "      <td>0.523008</td>\n",
       "      <td>0.381594</td>\n",
       "      <td>32.204208</td>\n",
       "    </tr>\n",
       "    <tr>\n",
       "      <th>std</th>\n",
       "      <td>257.353842</td>\n",
       "      <td>0.486592</td>\n",
       "      <td>0.836071</td>\n",
       "      <td>14.526497</td>\n",
       "      <td>1.102743</td>\n",
       "      <td>0.806057</td>\n",
       "      <td>49.693429</td>\n",
       "    </tr>\n",
       "    <tr>\n",
       "      <th>min</th>\n",
       "      <td>1.000000</td>\n",
       "      <td>0.000000</td>\n",
       "      <td>1.000000</td>\n",
       "      <td>0.420000</td>\n",
       "      <td>0.000000</td>\n",
       "      <td>0.000000</td>\n",
       "      <td>0.000000</td>\n",
       "    </tr>\n",
       "    <tr>\n",
       "      <th>25%</th>\n",
       "      <td>223.500000</td>\n",
       "      <td>0.000000</td>\n",
       "      <td>2.000000</td>\n",
       "      <td>20.125000</td>\n",
       "      <td>0.000000</td>\n",
       "      <td>0.000000</td>\n",
       "      <td>7.910400</td>\n",
       "    </tr>\n",
       "    <tr>\n",
       "      <th>50%</th>\n",
       "      <td>446.000000</td>\n",
       "      <td>0.000000</td>\n",
       "      <td>3.000000</td>\n",
       "      <td>28.000000</td>\n",
       "      <td>0.000000</td>\n",
       "      <td>0.000000</td>\n",
       "      <td>14.454200</td>\n",
       "    </tr>\n",
       "    <tr>\n",
       "      <th>75%</th>\n",
       "      <td>668.500000</td>\n",
       "      <td>1.000000</td>\n",
       "      <td>3.000000</td>\n",
       "      <td>38.000000</td>\n",
       "      <td>1.000000</td>\n",
       "      <td>0.000000</td>\n",
       "      <td>31.000000</td>\n",
       "    </tr>\n",
       "    <tr>\n",
       "      <th>max</th>\n",
       "      <td>891.000000</td>\n",
       "      <td>1.000000</td>\n",
       "      <td>3.000000</td>\n",
       "      <td>80.000000</td>\n",
       "      <td>8.000000</td>\n",
       "      <td>6.000000</td>\n",
       "      <td>512.329200</td>\n",
       "    </tr>\n",
       "  </tbody>\n",
       "</table>\n",
       "</div>"
      ],
      "text/plain": [
       "       PassengerId    Survived      Pclass         Age       SibSp  \\\n",
       "count   891.000000  891.000000  891.000000  714.000000  891.000000   \n",
       "mean    446.000000    0.383838    2.308642   29.699118    0.523008   \n",
       "std     257.353842    0.486592    0.836071   14.526497    1.102743   \n",
       "min       1.000000    0.000000    1.000000    0.420000    0.000000   \n",
       "25%     223.500000    0.000000    2.000000   20.125000    0.000000   \n",
       "50%     446.000000    0.000000    3.000000   28.000000    0.000000   \n",
       "75%     668.500000    1.000000    3.000000   38.000000    1.000000   \n",
       "max     891.000000    1.000000    3.000000   80.000000    8.000000   \n",
       "\n",
       "            Parch        Fare  \n",
       "count  891.000000  891.000000  \n",
       "mean     0.381594   32.204208  \n",
       "std      0.806057   49.693429  \n",
       "min      0.000000    0.000000  \n",
       "25%      0.000000    7.910400  \n",
       "50%      0.000000   14.454200  \n",
       "75%      0.000000   31.000000  \n",
       "max      6.000000  512.329200  "
      ]
     },
     "execution_count": 5,
     "metadata": {},
     "output_type": "execute_result"
    }
   ],
   "source": [
    "#Olhando um breve resumo estatístico dos dados.\n",
    "train_df.describe()"
   ]
  },
  {
   "cell_type": "markdown",
   "metadata": {},
   "source": [
    "Vemos que coluna 'Cabin' possui o maior número de informações faltantes, com 77% das colunas vazias, seguida por 'Age', com '20%, e 'Embarked' com 0,2%.\n",
    "<br>Sabemos a partir do sumário estatístico que, para o grupo de treino:\n",
    "- Menos da metade dos passageiros sobreviveu\n",
    "- Mais da metade dos passageiros eram de terceira classe\n",
    "- Pelo menos três quartos dos passageiros possuiam menos de 38 anos, constituindo uma população majoritariamente jovem, apesar do passageiro mais velho possuir 80 anos de idade.\n",
    "- Pelo menos três quartos dos passageiros não possuiam mais de um irmão ou cônjuge a bordo sendo que pelo menos metade não possuia nenhum\n",
    "- Mais de três quartos dos passageiros não possuiam filhos ou pais a bordo\n",
    "- O preço da passagem variou bastante indo de 0 (gratuito) até 512\n",
    "<br>Vamos observar as variáveis mais individualmente agora"
   ]
  },
  {
   "cell_type": "code",
   "execution_count": 6,
   "metadata": {},
   "outputs": [
    {
     "data": {
      "text/html": [
       "<div>\n",
       "<style scoped>\n",
       "    .dataframe tbody tr th:only-of-type {\n",
       "        vertical-align: middle;\n",
       "    }\n",
       "\n",
       "    .dataframe tbody tr th {\n",
       "        vertical-align: top;\n",
       "    }\n",
       "\n",
       "    .dataframe thead th {\n",
       "        text-align: right;\n",
       "    }\n",
       "</style>\n",
       "<table border=\"1\" class=\"dataframe\">\n",
       "  <thead>\n",
       "    <tr style=\"text-align: right;\">\n",
       "      <th></th>\n",
       "      <th>Name</th>\n",
       "      <th>Sex</th>\n",
       "      <th>Ticket</th>\n",
       "      <th>Cabin</th>\n",
       "      <th>Embarked</th>\n",
       "    </tr>\n",
       "  </thead>\n",
       "  <tbody>\n",
       "    <tr>\n",
       "      <th>count</th>\n",
       "      <td>891</td>\n",
       "      <td>891</td>\n",
       "      <td>891</td>\n",
       "      <td>204</td>\n",
       "      <td>889</td>\n",
       "    </tr>\n",
       "    <tr>\n",
       "      <th>unique</th>\n",
       "      <td>891</td>\n",
       "      <td>2</td>\n",
       "      <td>681</td>\n",
       "      <td>147</td>\n",
       "      <td>3</td>\n",
       "    </tr>\n",
       "    <tr>\n",
       "      <th>top</th>\n",
       "      <td>Augustsson, Mr. Albert</td>\n",
       "      <td>male</td>\n",
       "      <td>1601</td>\n",
       "      <td>B96 B98</td>\n",
       "      <td>S</td>\n",
       "    </tr>\n",
       "    <tr>\n",
       "      <th>freq</th>\n",
       "      <td>1</td>\n",
       "      <td>577</td>\n",
       "      <td>7</td>\n",
       "      <td>4</td>\n",
       "      <td>644</td>\n",
       "    </tr>\n",
       "  </tbody>\n",
       "</table>\n",
       "</div>"
      ],
      "text/plain": [
       "                          Name   Sex Ticket    Cabin Embarked\n",
       "count                      891   891    891      204      889\n",
       "unique                     891     2    681      147        3\n",
       "top     Augustsson, Mr. Albert  male   1601  B96 B98        S\n",
       "freq                         1   577      7        4      644"
      ]
     },
     "execution_count": 6,
     "metadata": {},
     "output_type": "execute_result"
    }
   ],
   "source": [
    "train_df.describe(include=['O'])"
   ]
  },
  {
   "cell_type": "code",
   "execution_count": 7,
   "metadata": {},
   "outputs": [
    {
     "data": {
      "image/png": "[encoded data removed]",
      "text/plain": [
       "<Figure size 1152x576 with 9 Axes>"
      ]
     },
     "metadata": {},
     "output_type": "display_data"
    }
   ],
   "source": [
    "train_df.hist(figsize=(16,8));"
   ]
  },
  {
   "cell_type": "markdown",
   "metadata": {},
   "source": [
    "O histograma de survived nos mostra que aproximadamente 1/3 do grupo de treino sobreviveu, enquanto a proporção para a população geral é de aproximadamente 1/4. O restante das variáveis confirmam as conclusões tiradas do resumo estatístico, mas não adicionam muito a análise. Vamos investigar um pouco a influência do sexo, classe do bilhete e idade:"
   ]
  },
  {
   "cell_type": "code",
   "execution_count": 8,
   "metadata": {},
   "outputs": [
    {
     "data": {
      "image/png": "[encoded data removed]",
      "text/plain": [
       "<Figure size 1296x288 with 3 Axes>"
      ]
     },
     "metadata": {},
     "output_type": "display_data"
    }
   ],
   "source": [
    "#Criando a figura com 2 gráficos\n",
    "fig0, (ax0,ax1,ax2) = plt.subplots(1,3, figsize=(18,4))\n",
    "\n",
    "my_colors = ('darkred','darkblue')\n",
    "#Gráfico 1 - Investigando o número de homens e mulheres entre os passageiros que embarcaram\n",
    "train_df[['Sex','PassengerId']].groupby(['Sex']).count().plot(kind = 'bar', ax=ax0, color=\"darkblue\", legend=None)\n",
    "\n",
    "ax0.set_xlabel('Sex')\n",
    "ax0.set_ylabel('Number of Passengers')\n",
    "ax0.set_title('Number of Passengers by Sex')\n",
    "\n",
    "#Gráfico 2 - Investigando o número de homens e mulheres entre os passageiros que sobreviveram\n",
    "train_df[['Sex','Survived']].groupby(['Sex']).sum().plot(kind = 'bar', ax=ax1, color=\"darkblue\", legend=None)\n",
    "\n",
    "ax1.set_xlabel('Sex')\n",
    "ax1.set_ylabel('Number of Survivors')\n",
    "ax1.set_title('Number of Shipwreck Survivors by Sex')\n",
    "\n",
    "#Gráfico 3 - Comparando os dois pela proporção\n",
    "train_df[['Sex','Survived']].groupby(['Sex']).mean().plot(kind = 'bar', color=\"darkblue\", ax=ax2, legend=None)\n",
    "\n",
    "ax2.set_xlabel('Sex')\n",
    "ax2.set_ylabel('Proportion of Passengers that Survived')\n",
    "ax2.set_title('Proportion of Shipwreck Survivors by Sex')\n",
    "\n",
    "plt.show()"
   ]
  },
  {
   "cell_type": "markdown",
   "metadata": {},
   "source": [
    "\"Mulheres e crianças primeiro\" resume bem o que os gráficos mostram. Mesmo em menor proporção no navio a maior parte dos sobreviventes foram mulheres e cerca de 70% das que embarcaram sobreviveram contra aproximadamente 20% dos homens."
   ]
  },
  {
   "cell_type": "code",
   "execution_count": 9,
   "metadata": {},
   "outputs": [
    {
     "data": {
      "image/png": "[encoded data removed]",
      "text/plain": [
       "<Figure size 1440x288 with 3 Axes>"
      ]
     },
     "metadata": {},
     "output_type": "display_data"
    }
   ],
   "source": [
    "#Criando a figura com 2 gráficos\n",
    "fig1, (ax0,ax1,ax2) = plt.subplots(1,3, figsize=(20,4))\n",
    "\n",
    "#Gráfico 1 - Investigando o número de homens e mulheres entre os passageiros que embarcaram\n",
    "train_df[['Pclass','PassengerId']].groupby(['Pclass']).count().plot(kind = 'bar', ax=ax0, color=('darkred','goldenrod','darkblue'), legend=None)\n",
    "\n",
    "ax0.set_xlabel('Passenger Class')\n",
    "ax0.set_ylabel('Number of Passengers')\n",
    "ax0.set_title('Number of Passengers by Passenger Class')\n",
    "\n",
    "#Gráfico 2 - Investigando o número de homens e mulheres entre os passageiros que sobreviveram\n",
    "train_df[['Pclass','Survived']].groupby(['Pclass']).sum().plot(kind = 'bar', ax=ax1, color=('darkred','goldenrod','darkblue'), legend=None)\n",
    "\n",
    "ax1.set_xlabel('Passenger Class')\n",
    "ax1.set_ylabel('Number of Survivors')\n",
    "ax1.set_title('Number of Shipwreck Survivors by Passenger Class')\n",
    "\n",
    "#Gráfico 3 - Comparando os dois pela proporção\n",
    "train_df[['Pclass','Survived']].groupby(['Pclass']).mean().plot(kind = 'bar', ax=ax2, color=('darkred','goldenrod','darkblue'), legend=None)\n",
    "\n",
    "ax2.set_xlabel('Passenger Class')\n",
    "ax2.set_ylabel('Proportion of Passengers that Survived')\n",
    "ax2.set_title('Proportion of Shipwreck Survivors by Passenger Class')\n",
    "\n",
    "plt.show()"
   ]
  },
  {
   "cell_type": "markdown",
   "metadata": {},
   "source": [
    "Quanto a classe do bilhete temos que, mesmo embarcando em números muito menores que a 3ª classe, a 1ª e 2ª sobreviveram em números maiores. Cerca de 60% da primeira classe e 50% da segunda sobreviveram, enquanto apenas aproximadamente 25% da terceira classe escapou com vida."
   ]
  },
  {
   "cell_type": "code",
   "execution_count": 10,
   "metadata": {},
   "outputs": [
    {
     "data": {
      "image/png": "[encoded data removed]",
      "text/plain": [
       "<Figure size 864x288 with 2 Axes>"
      ]
     },
     "metadata": {},
     "output_type": "display_data"
    }
   ],
   "source": [
    "#Criando a figura com 2 gráficos\n",
    "fig2, (ax0,ax1) = plt.subplots(1,2, figsize=(12,4))\n",
    "\n",
    "#GRáfico 1 - investigando o histograma de idades daqueles que embarcaram\n",
    "train_df[['Age']].plot(kind='hist', ax=ax0)\n",
    "ax0.set_xlabel('Age')\n",
    "ax0.set_ylabel('Number of Passengers')\n",
    "ax0.set_title('Passengers Embarked by Age')\n",
    "\n",
    "#Gráfico 2 - Investigando o histograma de idades daqueles que sobreviveram\n",
    "train_df[['Age']].loc[train_df['Survived']==1].plot(kind='hist', ax=ax1)\n",
    "ax1.set_xlabel('Age')\n",
    "ax1.set_ylabel('Number os Survivors')\n",
    "ax1.set_title('Passengers Survived by Age')\n",
    "\n",
    "plt.show()"
   ]
  },
  {
   "cell_type": "markdown",
   "metadata": {},
   "source": [
    "Ao que tudo indica crianças e idosos sobreviveram proporcionalmente um pouco mais que jovens e adultos, com destaque para a faixa de 0 a 10 anos. Por fim, vamos dar uma olhada geral nas correlações das variáveis discretas:"
   ]
  },
  {
   "cell_type": "code",
   "execution_count": 11,
   "metadata": {},
   "outputs": [
    {
     "data": {
      "text/plain": [
       "<AxesSubplot:>"
      ]
     },
     "execution_count": 11,
     "metadata": {},
     "output_type": "execute_result"
    },
    {
     "data": {
      "image/png": "[encoded data removed]",
      "text/plain": [
       "<Figure size 432x288 with 2 Axes>"
      ]
     },
     "metadata": {},
     "output_type": "display_data"
    }
   ],
   "source": [
    "sns.heatmap(train_df.corr(),cmap='coolwarm', annot=True)"
   ]
  },
  {
   "cell_type": "markdown",
   "metadata": {},
   "source": [
    "Nenhuma correlação forte encontrada com a variável alvo, 'Survived'. Sigamos para a prepação dos dados"
   ]
  },
  {
   "cell_type": "markdown",
   "metadata": {},
   "source": [
    "### Preparação dos Dados <a name=\"Preparação-dos-Dados\"></a>\n",
    "Agora que entendemos melhor os dados é hora de prepará-los para a modelagem. Vamos começar por juntar os _datasets_ de treino e de teste para facilitar as modificações."
   ]
  },
  {
   "cell_type": "code",
   "execution_count": 12,
   "metadata": {},
   "outputs": [
    {
     "data": {
      "text/plain": [
       "(1309, 11)"
      ]
     },
     "execution_count": 12,
     "metadata": {},
     "output_type": "execute_result"
    }
   ],
   "source": [
    "# Salvando os índices dos datasets para recuperação posterior\n",
    "train_id = train_df.shape[0]\n",
    "test_id = test_df.shape[0]\n",
    "\n",
    "# Salvando PassengerId para submissao ao Kaggle\n",
    "passengerId = test_df['PassengerId']\n",
    "\n",
    "# Extraindo coluna 'Survived' e excluindo do dataset de treino\n",
    "target = train_df[['Survived']].copy()\n",
    "train_df.drop(['Survived'], axis=1, inplace=True)\n",
    "\n",
    "# Concatenando treino e teste em um único DataFrame\n",
    "concat_df = pd.concat(objs=[train_df, test_df], axis=0).reset_index(drop=True)\n",
    "concat_df.shape"
   ]
  },
  {
   "cell_type": "markdown",
   "metadata": {},
   "source": [
    "#### Escolhendo _Features_\n",
    "As variáveis 'PassengerId','Name', 'Cabin' e 'Ticket' são apenas identificadores e claramente não tem relação com a chance de sobrevivência de alguém, portanto serão abandonadas."
   ]
  },
  {
   "cell_type": "code",
   "execution_count": 13,
   "metadata": {},
   "outputs": [
    {
     "data": {
      "text/html": [
       "<div>\n",
       "<style scoped>\n",
       "    .dataframe tbody tr th:only-of-type {\n",
       "        vertical-align: middle;\n",
       "    }\n",
       "\n",
       "    .dataframe tbody tr th {\n",
       "        vertical-align: top;\n",
       "    }\n",
       "\n",
       "    .dataframe thead th {\n",
       "        text-align: right;\n",
       "    }\n",
       "</style>\n",
       "<table border=\"1\" class=\"dataframe\">\n",
       "  <thead>\n",
       "    <tr style=\"text-align: right;\">\n",
       "      <th></th>\n",
       "      <th>Pclass</th>\n",
       "      <th>Sex</th>\n",
       "      <th>Age</th>\n",
       "      <th>SibSp</th>\n",
       "      <th>Parch</th>\n",
       "      <th>Fare</th>\n",
       "      <th>Embarked</th>\n",
       "    </tr>\n",
       "  </thead>\n",
       "  <tbody>\n",
       "    <tr>\n",
       "      <th>0</th>\n",
       "      <td>3</td>\n",
       "      <td>male</td>\n",
       "      <td>22.0</td>\n",
       "      <td>1</td>\n",
       "      <td>0</td>\n",
       "      <td>7.2500</td>\n",
       "      <td>S</td>\n",
       "    </tr>\n",
       "    <tr>\n",
       "      <th>1</th>\n",
       "      <td>1</td>\n",
       "      <td>female</td>\n",
       "      <td>38.0</td>\n",
       "      <td>1</td>\n",
       "      <td>0</td>\n",
       "      <td>71.2833</td>\n",
       "      <td>C</td>\n",
       "    </tr>\n",
       "    <tr>\n",
       "      <th>2</th>\n",
       "      <td>3</td>\n",
       "      <td>female</td>\n",
       "      <td>26.0</td>\n",
       "      <td>0</td>\n",
       "      <td>0</td>\n",
       "      <td>7.9250</td>\n",
       "      <td>S</td>\n",
       "    </tr>\n",
       "    <tr>\n",
       "      <th>3</th>\n",
       "      <td>1</td>\n",
       "      <td>female</td>\n",
       "      <td>35.0</td>\n",
       "      <td>1</td>\n",
       "      <td>0</td>\n",
       "      <td>53.1000</td>\n",
       "      <td>S</td>\n",
       "    </tr>\n",
       "    <tr>\n",
       "      <th>4</th>\n",
       "      <td>3</td>\n",
       "      <td>male</td>\n",
       "      <td>35.0</td>\n",
       "      <td>0</td>\n",
       "      <td>0</td>\n",
       "      <td>8.0500</td>\n",
       "      <td>S</td>\n",
       "    </tr>\n",
       "  </tbody>\n",
       "</table>\n",
       "</div>"
      ],
      "text/plain": [
       "   Pclass     Sex   Age  SibSp  Parch     Fare Embarked\n",
       "0       3    male  22.0      1      0   7.2500        S\n",
       "1       1  female  38.0      1      0  71.2833        C\n",
       "2       3  female  26.0      0      0   7.9250        S\n",
       "3       1  female  35.0      1      0  53.1000        S\n",
       "4       3    male  35.0      0      0   8.0500        S"
      ]
     },
     "execution_count": 13,
     "metadata": {},
     "output_type": "execute_result"
    }
   ],
   "source": [
    "concat_df.drop(['PassengerId','Name','Cabin','Ticket'], axis=1, inplace=True)\n",
    "concat_df.head()"
   ]
  },
  {
   "cell_type": "markdown",
   "metadata": {},
   "source": [
    "#### Valores Faltantes\n",
    "Vamos checar os valores faltantes no _dataset_. Para 'Age' e 'Fare' usaremos a mediana como substituto e para 'Embarked' o valor mais frequente."
   ]
  },
  {
   "cell_type": "code",
   "execution_count": 14,
   "metadata": {},
   "outputs": [
    {
     "data": {
      "text/plain": [
       "Pclass        0\n",
       "Sex           0\n",
       "Age         263\n",
       "SibSp         0\n",
       "Parch         0\n",
       "Fare          1\n",
       "Embarked      2\n",
       "dtype: int64"
      ]
     },
     "execution_count": 14,
     "metadata": {},
     "output_type": "execute_result"
    }
   ],
   "source": [
    "concat_df.isnull().sum()"
   ]
  },
  {
   "cell_type": "code",
   "execution_count": 15,
   "metadata": {},
   "outputs": [
    {
     "data": {
      "text/plain": [
       "Pclass      0\n",
       "Sex         0\n",
       "Age         0\n",
       "SibSp       0\n",
       "Parch       0\n",
       "Fare        0\n",
       "Embarked    0\n",
       "dtype: int64"
      ]
     },
     "execution_count": 15,
     "metadata": {},
     "output_type": "execute_result"
    }
   ],
   "source": [
    "#Substituindo os valores\n",
    "concat_df['Age'].replace(np.nan, concat_df['Age'].median() , inplace=True)\n",
    "concat_df['Fare'].replace(np.nan, concat_df['Fare'].median() , inplace=True)\n",
    "concat_df['Embarked'].replace(np.nan, concat_df['Embarked'].value_counts()[0] , inplace=True)\n",
    "#Checando se ainda existe algum valor faltante\n",
    "concat_df.isnull().sum()"
   ]
  },
  {
   "cell_type": "markdown",
   "metadata": {},
   "source": [
    "#### Preparando variáveis para o modelo\n",
    "O modelo trabalha com variáveis numéricas, então vamos converter 'Sex' em 0 e 1 e criar _Dummies_ para 'Embarked'."
   ]
  },
  {
   "cell_type": "code",
   "execution_count": 16,
   "metadata": {},
   "outputs": [
    {
     "data": {
      "text/html": [
       "<div>\n",
       "<style scoped>\n",
       "    .dataframe tbody tr th:only-of-type {\n",
       "        vertical-align: middle;\n",
       "    }\n",
       "\n",
       "    .dataframe tbody tr th {\n",
       "        vertical-align: top;\n",
       "    }\n",
       "\n",
       "    .dataframe thead th {\n",
       "        text-align: right;\n",
       "    }\n",
       "</style>\n",
       "<table border=\"1\" class=\"dataframe\">\n",
       "  <thead>\n",
       "    <tr style=\"text-align: right;\">\n",
       "      <th></th>\n",
       "      <th>Pclass</th>\n",
       "      <th>Sex</th>\n",
       "      <th>Age</th>\n",
       "      <th>SibSp</th>\n",
       "      <th>Parch</th>\n",
       "      <th>Fare</th>\n",
       "      <th>Embarked_914</th>\n",
       "      <th>Embarked_C</th>\n",
       "      <th>Embarked_Q</th>\n",
       "      <th>Embarked_S</th>\n",
       "    </tr>\n",
       "  </thead>\n",
       "  <tbody>\n",
       "    <tr>\n",
       "      <th>0</th>\n",
       "      <td>3</td>\n",
       "      <td>0</td>\n",
       "      <td>22.0</td>\n",
       "      <td>1</td>\n",
       "      <td>0</td>\n",
       "      <td>7.2500</td>\n",
       "      <td>0</td>\n",
       "      <td>0</td>\n",
       "      <td>0</td>\n",
       "      <td>1</td>\n",
       "    </tr>\n",
       "    <tr>\n",
       "      <th>1</th>\n",
       "      <td>1</td>\n",
       "      <td>1</td>\n",
       "      <td>38.0</td>\n",
       "      <td>1</td>\n",
       "      <td>0</td>\n",
       "      <td>71.2833</td>\n",
       "      <td>0</td>\n",
       "      <td>1</td>\n",
       "      <td>0</td>\n",
       "      <td>0</td>\n",
       "    </tr>\n",
       "    <tr>\n",
       "      <th>2</th>\n",
       "      <td>3</td>\n",
       "      <td>1</td>\n",
       "      <td>26.0</td>\n",
       "      <td>0</td>\n",
       "      <td>0</td>\n",
       "      <td>7.9250</td>\n",
       "      <td>0</td>\n",
       "      <td>0</td>\n",
       "      <td>0</td>\n",
       "      <td>1</td>\n",
       "    </tr>\n",
       "    <tr>\n",
       "      <th>3</th>\n",
       "      <td>1</td>\n",
       "      <td>1</td>\n",
       "      <td>35.0</td>\n",
       "      <td>1</td>\n",
       "      <td>0</td>\n",
       "      <td>53.1000</td>\n",
       "      <td>0</td>\n",
       "      <td>0</td>\n",
       "      <td>0</td>\n",
       "      <td>1</td>\n",
       "    </tr>\n",
       "    <tr>\n",
       "      <th>4</th>\n",
       "      <td>3</td>\n",
       "      <td>0</td>\n",
       "      <td>35.0</td>\n",
       "      <td>0</td>\n",
       "      <td>0</td>\n",
       "      <td>8.0500</td>\n",
       "      <td>0</td>\n",
       "      <td>0</td>\n",
       "      <td>0</td>\n",
       "      <td>1</td>\n",
       "    </tr>\n",
       "  </tbody>\n",
       "</table>\n",
       "</div>"
      ],
      "text/plain": [
       "   Pclass  Sex   Age  SibSp  Parch     Fare  Embarked_914  Embarked_C  \\\n",
       "0       3    0  22.0      1      0   7.2500             0           0   \n",
       "1       1    1  38.0      1      0  71.2833             0           1   \n",
       "2       3    1  26.0      0      0   7.9250             0           0   \n",
       "3       1    1  35.0      1      0  53.1000             0           0   \n",
       "4       3    0  35.0      0      0   8.0500             0           0   \n",
       "\n",
       "   Embarked_Q  Embarked_S  \n",
       "0           0           1  \n",
       "1           0           0  \n",
       "2           0           1  \n",
       "3           0           1  \n",
       "4           0           1  "
      ]
     },
     "execution_count": 16,
     "metadata": {},
     "output_type": "execute_result"
    }
   ],
   "source": [
    "#Substituindo 'male' and 'female' por 0 e 1 respectivamente\n",
    "concat_df['Sex']=concat_df['Sex'].map({'male':0,'female':1})\n",
    "#Criando Dummies para 'Embarked'\n",
    "embarked_dummies = pd.get_dummies(concat_df['Embarked'], prefix='Embarked')\n",
    "concat_df = pd.concat([concat_df, embarked_dummies], axis=1)\n",
    "concat_df.drop('Embarked', axis=1, inplace=True)\n",
    "#Vamos ver o resultado\n",
    "concat_df.head()"
   ]
  },
  {
   "cell_type": "markdown",
   "metadata": {},
   "source": [
    "#### Recuperando datasets de treino e teste\n",
    "Agora vamos separar novamente nossos datasets para que possamos terminar o desafio"
   ]
  },
  {
   "cell_type": "code",
   "execution_count": 17,
   "metadata": {},
   "outputs": [],
   "source": [
    "#Separando datasets de treino e teste\n",
    "train_df = concat_df.iloc[:train_id]\n",
    "test_df = concat_df.iloc[train_id:]"
   ]
  },
  {
   "cell_type": "markdown",
   "metadata": {},
   "source": [
    "### Construção do Modelo <a name=\"Construção-do-Modelo\"> </a> \n",
    "É a hora que todos estavam esperando. Agora que a parte mais trabalhosa passou, vamos construir um modelo para predizer quem sobreviveria ao Titanic. Aqui, como precisamos de um modelo que nos retorne 'sim' ou 'não' e não uma previsão numérica, vou escolher usar um modelo de árvore de decisão."
   ]
  },
  {
   "cell_type": "code",
   "execution_count": 18,
   "metadata": {},
   "outputs": [
    {
     "data": {
      "text/plain": [
       "83.5"
      ]
     },
     "execution_count": 18,
     "metadata": {},
     "output_type": "execute_result"
    }
   ],
   "source": [
    "from sklearn.tree import DecisionTreeClassifier\n",
    "#Criando um modelo de árvore de decisão\n",
    "tree_class = DecisionTreeClassifier(max_depth=4)\n",
    "tree_class.fit(train_df, target)\n",
    "#Verificando o quão bem ele prediz o comportamento dos dados de treino\n",
    "round(tree_class.score(train_df, target) * 100, 2)"
   ]
  },
  {
   "cell_type": "markdown",
   "metadata": {},
   "source": [
    "Nosso modelo acerta 83,5% das vezes para o dataset de treino. Ele foi criado usando esse dataset, então é esperado que tenha uma acurácia maior para ele. O quanto essa acurácia vai cair na população real depende do quão representativos foram os dados de treino e das _Features_ corretas terem sido escolhidas. Vamos gerar o arquivo para submissão e ver como nos saímos:"
   ]
  },
  {
   "cell_type": "code",
   "execution_count": 19,
   "metadata": {},
   "outputs": [],
   "source": [
    "#Gerando predições\n",
    "prediction_df = tree_class.predict(test_df)\n",
    "\n",
    "#Adicionando PassengerId para identificação\n",
    "submission_df = pd.DataFrame({\"PassengerId\": passengerId,\"Survived\": prediction_df})\n",
    "\n",
    "#Gerando arquivo csv para submissão\n",
    "submission_df.to_csv('./submission_tree.csv', index=False)"
   ]
  },
  {
   "attachments": {
    "543d0422-d408-4291-a400-f41645a7a8eb.png": {
     "image/png": "[encoded data removed]"
    }
   },
   "cell_type": "markdown",
   "metadata": {},
   "source": [
    "![image.png](attachment:543d0422-d408-4291-a400-f41645a7a8eb.png)"
   ]
  },
  {
   "cell_type": "markdown",
   "metadata": {},
   "source": [
    "E nosso resultado final foi de 76,8% de precisão nas previsões do grupo de teste."
   ]
  },
  {
   "cell_type": "markdown",
   "metadata": {},
   "source": [
    "### Eu sobreviveria ao Titanic?\n",
    "Para finalizar esse projeto não posso evitar de testar se eu sobreviveria ao Titanic se estivesse lá na época. Sou Rodrigo Silveira, tenho 23 anos, provavelmente viajaria na 2ª classe sozinho pagando a passagem média."
   ]
  },
  {
   "cell_type": "code",
   "execution_count": 23,
   "metadata": {},
   "outputs": [
    {
     "name": "stdout",
     "output_type": "stream",
     "text": [
      "Rodrigo Silveira:\n",
      "Está no fundo do oceano nesse momento.\n"
     ]
    }
   ],
   "source": [
    "Rodrigo_Silveira=np.array([2,0,23,0,0,32.2,0,1,0,0]).reshape(1,-1)\n",
    "print('Rodrigo Silveira:')\n",
    "if((tree_class.predict(Rodrigo_Silveira)[0])==1):\n",
    "  print('sobreviveu! Uhuuuul!')\n",
    "else:\n",
    "    print('Está no fundo do oceano nesse momento.')\n"
   ]
  }
 ],
 "metadata": {
  "kernelspec": {
   "display_name": "Python 3",
   "language": "python",
   "name": "python3"
  },
  "language_info": {
   "codemirror_mode": {
    "name": "ipython",
    "version": 3
   },
   "file_extension": ".py",
   "mimetype": "text/x-python",
   "name": "python",
   "nbconvert_exporter": "python",
   "pygments_lexer": "ipython3",
   "version": "3.8.5"
  }
 },
 "nbformat": 4,
 "nbformat_minor": 4
}
